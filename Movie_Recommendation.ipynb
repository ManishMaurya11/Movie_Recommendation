{
 "cells": [
  {
   "cell_type": "markdown",
   "id": "c9f769d6-552e-4c3b-b0e4-363e5e27c8c8",
   "metadata": {
    "tags": []
   },
   "source": [
    "## Import"
   ]
  },
  {
   "cell_type": "code",
   "execution_count": 1,
   "id": "433e7918-2456-4cd2-94ca-303fdec0a5b8",
   "metadata": {
    "tags": []
   },
   "outputs": [
    {
     "name": "stdout",
     "output_type": "stream",
     "text": [
      "Defaulting to user installation because normal site-packages is not writeable\n",
      "Requirement already satisfied: surprise in c:\\users\\soitb\\appdata\\roaming\\python\\python311\\site-packages (0.1)\n",
      "Requirement already satisfied: scikit-surprise in c:\\users\\soitb\\appdata\\roaming\\python\\python311\\site-packages (from surprise) (1.1.3)\n",
      "Requirement already satisfied: joblib>=1.0.0 in c:\\programdata\\anaconda3\\lib\\site-packages (from scikit-surprise->surprise) (1.2.0)\n",
      "Requirement already satisfied: numpy>=1.17.3 in c:\\programdata\\anaconda3\\lib\\site-packages (from scikit-surprise->surprise) (1.24.3)\n",
      "Requirement already satisfied: scipy>=1.3.2 in c:\\programdata\\anaconda3\\lib\\site-packages (from scikit-surprise->surprise) (1.10.1)\n",
      "Note: you may need to restart the kernel to use updated packages.\n"
     ]
    }
   ],
   "source": [
    "pip install surprise"
   ]
  },
  {
   "cell_type": "code",
   "execution_count": 2,
   "id": "1654f013",
   "metadata": {},
   "outputs": [],
   "source": [
    "import pandas as pd \n",
    "import numpy as np\n",
    "\n",
    "import seaborn as sns\n",
    "\n",
    "from sklearn.feature_extraction.text import TfidfVectorizer\n",
    "from sklearn.metrics.pairwise import linear_kernel\n",
    "\n",
    "from ast import literal_eval\n",
    "\n",
    "from sklearn.feature_extraction.text import CountVectorizer\n",
    "from sklearn.metrics.pairwise import cosine_similarity\n",
    "\n",
    "from surprise import Reader, Dataset, SVD\n",
    "from surprise.model_selection import cross_validate"
   ]
  },
  {
   "cell_type": "markdown",
   "id": "975ae404-74a6-4dba-9756-b66d9c894f6b",
   "metadata": {
    "tags": []
   },
   "source": [
    "## Loading Dataset (movies_metadata, credits, ratings_small)"
   ]
  },
  {
   "cell_type": "code",
   "execution_count": 3,
   "id": "47500bf5-1062-4ea9-875b-eae58aea2362",
   "metadata": {},
   "outputs": [],
   "source": [
    "df_mov = pd.read_csv(\"D:\\@ML\\Datasets\\TMDB_dataset\\movies_metadata.csv\", low_memory = False)"
   ]
  },
  {
   "cell_type": "code",
   "execution_count": 4,
   "id": "b8855b4c-e0e8-4082-bc9f-1e7dc59e1087",
   "metadata": {
    "tags": []
   },
   "outputs": [],
   "source": [
    "df_cred = pd.read_csv(\"D:\\@ML\\Datasets\\TMDB_dataset\\credits.csv\", low_memory = False)"
   ]
  },
  {
   "cell_type": "code",
   "execution_count": 5,
   "id": "6f1c5cd3-654e-4c92-b93e-c1a79be30b64",
   "metadata": {},
   "outputs": [],
   "source": [
    "ratings = pd.read_csv(r\"D:\\@ML\\Datasets\\TMDB_dataset\\ratings_small.csv\")"
   ]
  },
  {
   "cell_type": "markdown",
   "id": "585bafd3-061f-4e3c-96bf-0feea9703353",
   "metadata": {
    "tags": []
   },
   "source": [
    "### Data Cleaning and Stats"
   ]
  },
  {
   "cell_type": "code",
   "execution_count": 6,
   "id": "11d5c5eb-7e8b-4487-bffd-d1eb88f09870",
   "metadata": {},
   "outputs": [],
   "source": [
    "df_mov.drop_duplicates(inplace=True)"
   ]
  },
  {
   "cell_type": "code",
   "execution_count": 7,
   "id": "4030db0e-d550-4ba6-9135-887831837528",
   "metadata": {},
   "outputs": [],
   "source": [
    "df_mov['id'].replace([np.inf, -np.inf], np.nan, inplace = True)"
   ]
  },
  {
   "cell_type": "code",
   "execution_count": 8,
   "id": "eb9d2fba-49ed-4a7b-889a-ed6994ff9bb5",
   "metadata": {},
   "outputs": [],
   "source": [
    "df_mov = df_mov.dropna(subset = ['id'])"
   ]
  },
  {
   "cell_type": "code",
   "execution_count": 9,
   "id": "62eead2e-b449-41d6-8b74-26427a8ba7fa",
   "metadata": {},
   "outputs": [],
   "source": [
    "df_mov.reset_index(drop = True, inplace = True)"
   ]
  },
  {
   "cell_type": "code",
   "execution_count": 10,
   "id": "c2a5f608-06ac-4bb9-9ec0-d7259611add9",
   "metadata": {
    "tags": []
   },
   "outputs": [
    {
     "name": "stderr",
     "output_type": "stream",
     "text": [
      "C:\\Users\\soitb\\AppData\\Local\\Temp\\ipykernel_21816\\2273055996.py:7: SettingWithCopyWarning: \n",
      "A value is trying to be set on a copy of a slice from a DataFrame\n",
      "\n",
      "See the caveats in the documentation: https://pandas.pydata.org/pandas-docs/stable/user_guide/indexing.html#returning-a-view-versus-a-copy\n",
      "  df_mov['id'][i] = int(float(df_mov['id'][i]))\n",
      "C:\\Users\\soitb\\AppData\\Local\\Temp\\ipykernel_21816\\2273055996.py:7: SettingWithCopyWarning: \n",
      "A value is trying to be set on a copy of a slice from a DataFrame\n",
      "\n",
      "See the caveats in the documentation: https://pandas.pydata.org/pandas-docs/stable/user_guide/indexing.html#returning-a-view-versus-a-copy\n",
      "  df_mov['id'][i] = int(float(df_mov['id'][i]))\n",
      "C:\\Users\\soitb\\AppData\\Local\\Temp\\ipykernel_21816\\2273055996.py:7: SettingWithCopyWarning: \n",
      "A value is trying to be set on a copy of a slice from a DataFrame\n",
      "\n",
      "See the caveats in the documentation: https://pandas.pydata.org/pandas-docs/stable/user_guide/indexing.html#returning-a-view-versus-a-copy\n",
      "  df_mov['id'][i] = int(float(df_mov['id'][i]))\n",
      "C:\\Users\\soitb\\AppData\\Local\\Temp\\ipykernel_21816\\2273055996.py:7: SettingWithCopyWarning: \n",
      "A value is trying to be set on a copy of a slice from a DataFrame\n",
      "\n",
      "See the caveats in the documentation: https://pandas.pydata.org/pandas-docs/stable/user_guide/indexing.html#returning-a-view-versus-a-copy\n",
      "  df_mov['id'][i] = int(float(df_mov['id'][i]))\n"
     ]
    }
   ],
   "source": [
    "# converting each row of 'id' to float and then to int, and if there is any error then drop the column\n",
    "# taking too much time find a better way\n",
    "\n",
    "\n",
    "for i in range(len(df_mov)):\n",
    "    try:\n",
    "        df_mov['id'][i] = int(float(df_mov['id'][i]))\n",
    "    except:\n",
    "        df_mov.drop([i], axis = 0, inplace = True)"
   ]
  },
  {
   "cell_type": "code",
   "execution_count": 11,
   "id": "b9f9f47e-3c90-41f7-a043-784a3dbc1050",
   "metadata": {},
   "outputs": [],
   "source": [
    "df_mov['id'] = df_mov['id'].astype(int)"
   ]
  },
  {
   "cell_type": "code",
   "execution_count": 12,
   "id": "df2160cb-43bb-400a-82dd-e2047429f0a6",
   "metadata": {},
   "outputs": [
    {
     "data": {
      "text/plain": [
       "45432"
      ]
     },
     "execution_count": 12,
     "metadata": {},
     "output_type": "execute_result"
    }
   ],
   "source": [
    "df_cred[\"id\"].nunique()"
   ]
  },
  {
   "cell_type": "code",
   "execution_count": 13,
   "id": "30d80a67-957f-4da9-b190-79f7c889ce4c",
   "metadata": {},
   "outputs": [
    {
     "data": {
      "text/plain": [
       "45433"
      ]
     },
     "execution_count": 13,
     "metadata": {},
     "output_type": "execute_result"
    }
   ],
   "source": [
    "df_mov[\"id\"].nunique()"
   ]
  },
  {
   "cell_type": "markdown",
   "id": "ca61a5b8-f3de-4e9f-b398-c4e7bf93ae35",
   "metadata": {
    "tags": []
   },
   "source": [
    "#### Concating the movies dataset"
   ]
  },
  {
   "cell_type": "code",
   "execution_count": 14,
   "id": "5a66bc03-7dc1-4a1e-bcc9-ebed2308cb7a",
   "metadata": {},
   "outputs": [],
   "source": [
    "df_movie = df_cred.merge(df_mov, how = \"left\",on = \"id\")"
   ]
  },
  {
   "cell_type": "code",
   "execution_count": 15,
   "id": "397ee474-ca3b-4d4e-8cbb-0599ca6e9a00",
   "metadata": {},
   "outputs": [
    {
     "data": {
      "text/plain": [
       "Index(['cast', 'crew', 'id', 'adult', 'belongs_to_collection', 'budget',\n",
       "       'genres', 'homepage', 'imdb_id', 'original_language', 'original_title',\n",
       "       'overview', 'popularity', 'poster_path', 'production_companies',\n",
       "       'production_countries', 'release_date', 'revenue', 'runtime',\n",
       "       'spoken_languages', 'status', 'tagline', 'title', 'video',\n",
       "       'vote_average', 'vote_count'],\n",
       "      dtype='object')"
      ]
     },
     "execution_count": 15,
     "metadata": {},
     "output_type": "execute_result"
    }
   ],
   "source": [
    "df_movie.columns"
   ]
  },
  {
   "cell_type": "code",
   "execution_count": 16,
   "id": "4e8137cb-9a89-4a1e-8c72-ffee82d00dc6",
   "metadata": {},
   "outputs": [
    {
     "data": {
      "text/html": [
       "<div>\n",
       "<style scoped>\n",
       "    .dataframe tbody tr th:only-of-type {\n",
       "        vertical-align: middle;\n",
       "    }\n",
       "\n",
       "    .dataframe tbody tr th {\n",
       "        vertical-align: top;\n",
       "    }\n",
       "\n",
       "    .dataframe thead th {\n",
       "        text-align: right;\n",
       "    }\n",
       "</style>\n",
       "<table border=\"1\" class=\"dataframe\">\n",
       "  <thead>\n",
       "    <tr style=\"text-align: right;\">\n",
       "      <th></th>\n",
       "      <th>cast</th>\n",
       "      <th>crew</th>\n",
       "      <th>id</th>\n",
       "      <th>adult</th>\n",
       "      <th>belongs_to_collection</th>\n",
       "      <th>budget</th>\n",
       "      <th>genres</th>\n",
       "      <th>homepage</th>\n",
       "      <th>imdb_id</th>\n",
       "      <th>original_language</th>\n",
       "      <th>...</th>\n",
       "      <th>release_date</th>\n",
       "      <th>revenue</th>\n",
       "      <th>runtime</th>\n",
       "      <th>spoken_languages</th>\n",
       "      <th>status</th>\n",
       "      <th>tagline</th>\n",
       "      <th>title</th>\n",
       "      <th>video</th>\n",
       "      <th>vote_average</th>\n",
       "      <th>vote_count</th>\n",
       "    </tr>\n",
       "  </thead>\n",
       "  <tbody>\n",
       "    <tr>\n",
       "      <th>0</th>\n",
       "      <td>[{'cast_id': 14, 'character': 'Woody (voice)',...</td>\n",
       "      <td>[{'credit_id': '52fe4284c3a36847f8024f49', 'de...</td>\n",
       "      <td>862</td>\n",
       "      <td>False</td>\n",
       "      <td>{'id': 10194, 'name': 'Toy Story Collection', ...</td>\n",
       "      <td>30000000</td>\n",
       "      <td>[{'id': 16, 'name': 'Animation'}, {'id': 35, '...</td>\n",
       "      <td>http://toystory.disney.com/toy-story</td>\n",
       "      <td>tt0114709</td>\n",
       "      <td>en</td>\n",
       "      <td>...</td>\n",
       "      <td>1995-10-30</td>\n",
       "      <td>373554033.0</td>\n",
       "      <td>81.0</td>\n",
       "      <td>[{'iso_639_1': 'en', 'name': 'English'}]</td>\n",
       "      <td>Released</td>\n",
       "      <td>NaN</td>\n",
       "      <td>Toy Story</td>\n",
       "      <td>False</td>\n",
       "      <td>7.7</td>\n",
       "      <td>5415.0</td>\n",
       "    </tr>\n",
       "    <tr>\n",
       "      <th>1</th>\n",
       "      <td>[{'cast_id': 1, 'character': 'Alan Parrish', '...</td>\n",
       "      <td>[{'credit_id': '52fe44bfc3a36847f80a7cd1', 'de...</td>\n",
       "      <td>8844</td>\n",
       "      <td>False</td>\n",
       "      <td>NaN</td>\n",
       "      <td>65000000</td>\n",
       "      <td>[{'id': 12, 'name': 'Adventure'}, {'id': 14, '...</td>\n",
       "      <td>NaN</td>\n",
       "      <td>tt0113497</td>\n",
       "      <td>en</td>\n",
       "      <td>...</td>\n",
       "      <td>1995-12-15</td>\n",
       "      <td>262797249.0</td>\n",
       "      <td>104.0</td>\n",
       "      <td>[{'iso_639_1': 'en', 'name': 'English'}, {'iso...</td>\n",
       "      <td>Released</td>\n",
       "      <td>Roll the dice and unleash the excitement!</td>\n",
       "      <td>Jumanji</td>\n",
       "      <td>False</td>\n",
       "      <td>6.9</td>\n",
       "      <td>2413.0</td>\n",
       "    </tr>\n",
       "    <tr>\n",
       "      <th>2</th>\n",
       "      <td>[{'cast_id': 2, 'character': 'Max Goldman', 'c...</td>\n",
       "      <td>[{'credit_id': '52fe466a9251416c75077a89', 'de...</td>\n",
       "      <td>15602</td>\n",
       "      <td>False</td>\n",
       "      <td>{'id': 119050, 'name': 'Grumpy Old Men Collect...</td>\n",
       "      <td>0</td>\n",
       "      <td>[{'id': 10749, 'name': 'Romance'}, {'id': 35, ...</td>\n",
       "      <td>NaN</td>\n",
       "      <td>tt0113228</td>\n",
       "      <td>en</td>\n",
       "      <td>...</td>\n",
       "      <td>1995-12-22</td>\n",
       "      <td>0.0</td>\n",
       "      <td>101.0</td>\n",
       "      <td>[{'iso_639_1': 'en', 'name': 'English'}]</td>\n",
       "      <td>Released</td>\n",
       "      <td>Still Yelling. Still Fighting. Still Ready for...</td>\n",
       "      <td>Grumpier Old Men</td>\n",
       "      <td>False</td>\n",
       "      <td>6.5</td>\n",
       "      <td>92.0</td>\n",
       "    </tr>\n",
       "    <tr>\n",
       "      <th>3</th>\n",
       "      <td>[{'cast_id': 1, 'character': \"Savannah 'Vannah...</td>\n",
       "      <td>[{'credit_id': '52fe44779251416c91011acb', 'de...</td>\n",
       "      <td>31357</td>\n",
       "      <td>False</td>\n",
       "      <td>NaN</td>\n",
       "      <td>16000000</td>\n",
       "      <td>[{'id': 35, 'name': 'Comedy'}, {'id': 18, 'nam...</td>\n",
       "      <td>NaN</td>\n",
       "      <td>tt0114885</td>\n",
       "      <td>en</td>\n",
       "      <td>...</td>\n",
       "      <td>1995-12-22</td>\n",
       "      <td>81452156.0</td>\n",
       "      <td>127.0</td>\n",
       "      <td>[{'iso_639_1': 'en', 'name': 'English'}]</td>\n",
       "      <td>Released</td>\n",
       "      <td>Friends are the people who let you be yourself...</td>\n",
       "      <td>Waiting to Exhale</td>\n",
       "      <td>False</td>\n",
       "      <td>6.1</td>\n",
       "      <td>34.0</td>\n",
       "    </tr>\n",
       "    <tr>\n",
       "      <th>4</th>\n",
       "      <td>[{'cast_id': 1, 'character': 'George Banks', '...</td>\n",
       "      <td>[{'credit_id': '52fe44959251416c75039ed7', 'de...</td>\n",
       "      <td>11862</td>\n",
       "      <td>False</td>\n",
       "      <td>{'id': 96871, 'name': 'Father of the Bride Col...</td>\n",
       "      <td>0</td>\n",
       "      <td>[{'id': 35, 'name': 'Comedy'}]</td>\n",
       "      <td>NaN</td>\n",
       "      <td>tt0113041</td>\n",
       "      <td>en</td>\n",
       "      <td>...</td>\n",
       "      <td>1995-02-10</td>\n",
       "      <td>76578911.0</td>\n",
       "      <td>106.0</td>\n",
       "      <td>[{'iso_639_1': 'en', 'name': 'English'}]</td>\n",
       "      <td>Released</td>\n",
       "      <td>Just When His World Is Back To Normal... He's ...</td>\n",
       "      <td>Father of the Bride Part II</td>\n",
       "      <td>False</td>\n",
       "      <td>5.7</td>\n",
       "      <td>173.0</td>\n",
       "    </tr>\n",
       "    <tr>\n",
       "      <th>...</th>\n",
       "      <td>...</td>\n",
       "      <td>...</td>\n",
       "      <td>...</td>\n",
       "      <td>...</td>\n",
       "      <td>...</td>\n",
       "      <td>...</td>\n",
       "      <td>...</td>\n",
       "      <td>...</td>\n",
       "      <td>...</td>\n",
       "      <td>...</td>\n",
       "      <td>...</td>\n",
       "      <td>...</td>\n",
       "      <td>...</td>\n",
       "      <td>...</td>\n",
       "      <td>...</td>\n",
       "      <td>...</td>\n",
       "      <td>...</td>\n",
       "      <td>...</td>\n",
       "      <td>...</td>\n",
       "      <td>...</td>\n",
       "      <td>...</td>\n",
       "    </tr>\n",
       "    <tr>\n",
       "      <th>45497</th>\n",
       "      <td>[{'cast_id': 0, 'character': '', 'credit_id': ...</td>\n",
       "      <td>[{'credit_id': '5894a97d925141426c00818c', 'de...</td>\n",
       "      <td>439050</td>\n",
       "      <td>False</td>\n",
       "      <td>NaN</td>\n",
       "      <td>0</td>\n",
       "      <td>[{'id': 18, 'name': 'Drama'}, {'id': 10751, 'n...</td>\n",
       "      <td>http://www.imdb.com/title/tt6209470/</td>\n",
       "      <td>tt6209470</td>\n",
       "      <td>fa</td>\n",
       "      <td>...</td>\n",
       "      <td>NaN</td>\n",
       "      <td>0.0</td>\n",
       "      <td>90.0</td>\n",
       "      <td>[{'iso_639_1': 'fa', 'name': 'فارسی'}]</td>\n",
       "      <td>Released</td>\n",
       "      <td>Rising and falling between a man and woman</td>\n",
       "      <td>Subdue</td>\n",
       "      <td>False</td>\n",
       "      <td>4.0</td>\n",
       "      <td>1.0</td>\n",
       "    </tr>\n",
       "    <tr>\n",
       "      <th>45498</th>\n",
       "      <td>[{'cast_id': 1002, 'character': 'Sister Angela...</td>\n",
       "      <td>[{'credit_id': '52fe4af1c3a36847f81e9b15', 'de...</td>\n",
       "      <td>111109</td>\n",
       "      <td>False</td>\n",
       "      <td>NaN</td>\n",
       "      <td>0</td>\n",
       "      <td>[{'id': 18, 'name': 'Drama'}]</td>\n",
       "      <td>NaN</td>\n",
       "      <td>tt2028550</td>\n",
       "      <td>tl</td>\n",
       "      <td>...</td>\n",
       "      <td>2011-11-17</td>\n",
       "      <td>0.0</td>\n",
       "      <td>360.0</td>\n",
       "      <td>[{'iso_639_1': 'tl', 'name': ''}]</td>\n",
       "      <td>Released</td>\n",
       "      <td>NaN</td>\n",
       "      <td>Century of Birthing</td>\n",
       "      <td>False</td>\n",
       "      <td>9.0</td>\n",
       "      <td>3.0</td>\n",
       "    </tr>\n",
       "    <tr>\n",
       "      <th>45499</th>\n",
       "      <td>[{'cast_id': 6, 'character': 'Emily Shaw', 'cr...</td>\n",
       "      <td>[{'credit_id': '52fe4776c3a368484e0c8387', 'de...</td>\n",
       "      <td>67758</td>\n",
       "      <td>False</td>\n",
       "      <td>NaN</td>\n",
       "      <td>0</td>\n",
       "      <td>[{'id': 28, 'name': 'Action'}, {'id': 18, 'nam...</td>\n",
       "      <td>NaN</td>\n",
       "      <td>tt0303758</td>\n",
       "      <td>en</td>\n",
       "      <td>...</td>\n",
       "      <td>2003-08-01</td>\n",
       "      <td>0.0</td>\n",
       "      <td>90.0</td>\n",
       "      <td>[{'iso_639_1': 'en', 'name': 'English'}]</td>\n",
       "      <td>Released</td>\n",
       "      <td>A deadly game of wits.</td>\n",
       "      <td>Betrayal</td>\n",
       "      <td>False</td>\n",
       "      <td>3.8</td>\n",
       "      <td>6.0</td>\n",
       "    </tr>\n",
       "    <tr>\n",
       "      <th>45500</th>\n",
       "      <td>[{'cast_id': 2, 'character': '', 'credit_id': ...</td>\n",
       "      <td>[{'credit_id': '533bccebc3a36844cf0011a7', 'de...</td>\n",
       "      <td>227506</td>\n",
       "      <td>False</td>\n",
       "      <td>NaN</td>\n",
       "      <td>0</td>\n",
       "      <td>[]</td>\n",
       "      <td>NaN</td>\n",
       "      <td>tt0008536</td>\n",
       "      <td>en</td>\n",
       "      <td>...</td>\n",
       "      <td>1917-10-21</td>\n",
       "      <td>0.0</td>\n",
       "      <td>87.0</td>\n",
       "      <td>[]</td>\n",
       "      <td>Released</td>\n",
       "      <td>NaN</td>\n",
       "      <td>Satan Triumphant</td>\n",
       "      <td>False</td>\n",
       "      <td>0.0</td>\n",
       "      <td>0.0</td>\n",
       "    </tr>\n",
       "    <tr>\n",
       "      <th>45501</th>\n",
       "      <td>[]</td>\n",
       "      <td>[{'credit_id': '593e676c92514105b702e68e', 'de...</td>\n",
       "      <td>461257</td>\n",
       "      <td>False</td>\n",
       "      <td>NaN</td>\n",
       "      <td>0</td>\n",
       "      <td>[]</td>\n",
       "      <td>NaN</td>\n",
       "      <td>tt6980792</td>\n",
       "      <td>en</td>\n",
       "      <td>...</td>\n",
       "      <td>2017-06-09</td>\n",
       "      <td>0.0</td>\n",
       "      <td>75.0</td>\n",
       "      <td>[{'iso_639_1': 'en', 'name': 'English'}]</td>\n",
       "      <td>Released</td>\n",
       "      <td>NaN</td>\n",
       "      <td>Queerama</td>\n",
       "      <td>False</td>\n",
       "      <td>0.0</td>\n",
       "      <td>0.0</td>\n",
       "    </tr>\n",
       "  </tbody>\n",
       "</table>\n",
       "<p>45502 rows × 26 columns</p>\n",
       "</div>"
      ],
      "text/plain": [
       "                                                    cast  \\\n",
       "0      [{'cast_id': 14, 'character': 'Woody (voice)',...   \n",
       "1      [{'cast_id': 1, 'character': 'Alan Parrish', '...   \n",
       "2      [{'cast_id': 2, 'character': 'Max Goldman', 'c...   \n",
       "3      [{'cast_id': 1, 'character': \"Savannah 'Vannah...   \n",
       "4      [{'cast_id': 1, 'character': 'George Banks', '...   \n",
       "...                                                  ...   \n",
       "45497  [{'cast_id': 0, 'character': '', 'credit_id': ...   \n",
       "45498  [{'cast_id': 1002, 'character': 'Sister Angela...   \n",
       "45499  [{'cast_id': 6, 'character': 'Emily Shaw', 'cr...   \n",
       "45500  [{'cast_id': 2, 'character': '', 'credit_id': ...   \n",
       "45501                                                 []   \n",
       "\n",
       "                                                    crew      id  adult  \\\n",
       "0      [{'credit_id': '52fe4284c3a36847f8024f49', 'de...     862  False   \n",
       "1      [{'credit_id': '52fe44bfc3a36847f80a7cd1', 'de...    8844  False   \n",
       "2      [{'credit_id': '52fe466a9251416c75077a89', 'de...   15602  False   \n",
       "3      [{'credit_id': '52fe44779251416c91011acb', 'de...   31357  False   \n",
       "4      [{'credit_id': '52fe44959251416c75039ed7', 'de...   11862  False   \n",
       "...                                                  ...     ...    ...   \n",
       "45497  [{'credit_id': '5894a97d925141426c00818c', 'de...  439050  False   \n",
       "45498  [{'credit_id': '52fe4af1c3a36847f81e9b15', 'de...  111109  False   \n",
       "45499  [{'credit_id': '52fe4776c3a368484e0c8387', 'de...   67758  False   \n",
       "45500  [{'credit_id': '533bccebc3a36844cf0011a7', 'de...  227506  False   \n",
       "45501  [{'credit_id': '593e676c92514105b702e68e', 'de...  461257  False   \n",
       "\n",
       "                                   belongs_to_collection    budget  \\\n",
       "0      {'id': 10194, 'name': 'Toy Story Collection', ...  30000000   \n",
       "1                                                    NaN  65000000   \n",
       "2      {'id': 119050, 'name': 'Grumpy Old Men Collect...         0   \n",
       "3                                                    NaN  16000000   \n",
       "4      {'id': 96871, 'name': 'Father of the Bride Col...         0   \n",
       "...                                                  ...       ...   \n",
       "45497                                                NaN         0   \n",
       "45498                                                NaN         0   \n",
       "45499                                                NaN         0   \n",
       "45500                                                NaN         0   \n",
       "45501                                                NaN         0   \n",
       "\n",
       "                                                  genres  \\\n",
       "0      [{'id': 16, 'name': 'Animation'}, {'id': 35, '...   \n",
       "1      [{'id': 12, 'name': 'Adventure'}, {'id': 14, '...   \n",
       "2      [{'id': 10749, 'name': 'Romance'}, {'id': 35, ...   \n",
       "3      [{'id': 35, 'name': 'Comedy'}, {'id': 18, 'nam...   \n",
       "4                         [{'id': 35, 'name': 'Comedy'}]   \n",
       "...                                                  ...   \n",
       "45497  [{'id': 18, 'name': 'Drama'}, {'id': 10751, 'n...   \n",
       "45498                      [{'id': 18, 'name': 'Drama'}]   \n",
       "45499  [{'id': 28, 'name': 'Action'}, {'id': 18, 'nam...   \n",
       "45500                                                 []   \n",
       "45501                                                 []   \n",
       "\n",
       "                                   homepage    imdb_id original_language  ...  \\\n",
       "0      http://toystory.disney.com/toy-story  tt0114709                en  ...   \n",
       "1                                       NaN  tt0113497                en  ...   \n",
       "2                                       NaN  tt0113228                en  ...   \n",
       "3                                       NaN  tt0114885                en  ...   \n",
       "4                                       NaN  tt0113041                en  ...   \n",
       "...                                     ...        ...               ...  ...   \n",
       "45497  http://www.imdb.com/title/tt6209470/  tt6209470                fa  ...   \n",
       "45498                                   NaN  tt2028550                tl  ...   \n",
       "45499                                   NaN  tt0303758                en  ...   \n",
       "45500                                   NaN  tt0008536                en  ...   \n",
       "45501                                   NaN  tt6980792                en  ...   \n",
       "\n",
       "      release_date      revenue runtime  \\\n",
       "0       1995-10-30  373554033.0    81.0   \n",
       "1       1995-12-15  262797249.0   104.0   \n",
       "2       1995-12-22          0.0   101.0   \n",
       "3       1995-12-22   81452156.0   127.0   \n",
       "4       1995-02-10   76578911.0   106.0   \n",
       "...            ...          ...     ...   \n",
       "45497          NaN          0.0    90.0   \n",
       "45498   2011-11-17          0.0   360.0   \n",
       "45499   2003-08-01          0.0    90.0   \n",
       "45500   1917-10-21          0.0    87.0   \n",
       "45501   2017-06-09          0.0    75.0   \n",
       "\n",
       "                                        spoken_languages    status  \\\n",
       "0               [{'iso_639_1': 'en', 'name': 'English'}]  Released   \n",
       "1      [{'iso_639_1': 'en', 'name': 'English'}, {'iso...  Released   \n",
       "2               [{'iso_639_1': 'en', 'name': 'English'}]  Released   \n",
       "3               [{'iso_639_1': 'en', 'name': 'English'}]  Released   \n",
       "4               [{'iso_639_1': 'en', 'name': 'English'}]  Released   \n",
       "...                                                  ...       ...   \n",
       "45497             [{'iso_639_1': 'fa', 'name': 'فارسی'}]  Released   \n",
       "45498                  [{'iso_639_1': 'tl', 'name': ''}]  Released   \n",
       "45499           [{'iso_639_1': 'en', 'name': 'English'}]  Released   \n",
       "45500                                                 []  Released   \n",
       "45501           [{'iso_639_1': 'en', 'name': 'English'}]  Released   \n",
       "\n",
       "                                                 tagline  \\\n",
       "0                                                    NaN   \n",
       "1              Roll the dice and unleash the excitement!   \n",
       "2      Still Yelling. Still Fighting. Still Ready for...   \n",
       "3      Friends are the people who let you be yourself...   \n",
       "4      Just When His World Is Back To Normal... He's ...   \n",
       "...                                                  ...   \n",
       "45497         Rising and falling between a man and woman   \n",
       "45498                                                NaN   \n",
       "45499                             A deadly game of wits.   \n",
       "45500                                                NaN   \n",
       "45501                                                NaN   \n",
       "\n",
       "                             title  video  vote_average vote_count  \n",
       "0                        Toy Story  False           7.7     5415.0  \n",
       "1                          Jumanji  False           6.9     2413.0  \n",
       "2                 Grumpier Old Men  False           6.5       92.0  \n",
       "3                Waiting to Exhale  False           6.1       34.0  \n",
       "4      Father of the Bride Part II  False           5.7      173.0  \n",
       "...                            ...    ...           ...        ...  \n",
       "45497                       Subdue  False           4.0        1.0  \n",
       "45498          Century of Birthing  False           9.0        3.0  \n",
       "45499                     Betrayal  False           3.8        6.0  \n",
       "45500             Satan Triumphant  False           0.0        0.0  \n",
       "45501                     Queerama  False           0.0        0.0  \n",
       "\n",
       "[45502 rows x 26 columns]"
      ]
     },
     "execution_count": 16,
     "metadata": {},
     "output_type": "execute_result"
    }
   ],
   "source": [
    "df_movie"
   ]
  },
  {
   "cell_type": "markdown",
   "id": "170a2d9e-1439-4f72-9106-3eba59b77e16",
   "metadata": {
    "tags": []
   },
   "source": [
    "#### Basic stats of data"
   ]
  },
  {
   "cell_type": "code",
   "execution_count": 17,
   "id": "b7b27642-53d5-4276-b099-10b1413332f0",
   "metadata": {},
   "outputs": [
    {
     "data": {
      "text/plain": [
       "\"[{'id': 16, 'name': 'Animation'}, {'id': 35, 'name': 'Comedy'}, {'id': 10751, 'name': 'Family'}]\""
      ]
     },
     "execution_count": 17,
     "metadata": {},
     "output_type": "execute_result"
    }
   ],
   "source": [
    "df_movie['genres'][0]"
   ]
  },
  {
   "cell_type": "code",
   "execution_count": 18,
   "id": "70bae724-f9b9-4bdf-a71d-002304ec8c54",
   "metadata": {},
   "outputs": [],
   "source": [
    "df_movie['release_date'] = df_movie['release_date'].astype('datetime64[ns]')\n",
    "#df_movie['release_date'] = pd.to_datetime(df_movie['release_date'], format = '%Y-%m-%d')"
   ]
  },
  {
   "cell_type": "code",
   "execution_count": 19,
   "id": "a5195e9f-eadf-4cb7-8c82-91ddf14b00e1",
   "metadata": {},
   "outputs": [],
   "source": [
    "df_movie[['popularity','budget']] = df_movie[['popularity','budget']].astype(float)"
   ]
  },
  {
   "cell_type": "code",
   "execution_count": 20,
   "id": "947eec03-93b8-45c4-ae82-e3b77d60535b",
   "metadata": {},
   "outputs": [
    {
     "data": {
      "text/html": [
       "<div>\n",
       "<style scoped>\n",
       "    .dataframe tbody tr th:only-of-type {\n",
       "        vertical-align: middle;\n",
       "    }\n",
       "\n",
       "    .dataframe tbody tr th {\n",
       "        vertical-align: top;\n",
       "    }\n",
       "\n",
       "    .dataframe thead th {\n",
       "        text-align: right;\n",
       "    }\n",
       "</style>\n",
       "<table border=\"1\" class=\"dataframe\">\n",
       "  <thead>\n",
       "    <tr style=\"text-align: right;\">\n",
       "      <th></th>\n",
       "      <th>id</th>\n",
       "      <th>budget</th>\n",
       "      <th>popularity</th>\n",
       "      <th>revenue</th>\n",
       "      <th>runtime</th>\n",
       "      <th>vote_average</th>\n",
       "      <th>vote_count</th>\n",
       "    </tr>\n",
       "  </thead>\n",
       "  <tbody>\n",
       "    <tr>\n",
       "      <th>count</th>\n",
       "      <td>45502.000000</td>\n",
       "      <td>4.550200e+04</td>\n",
       "      <td>45499.000000</td>\n",
       "      <td>4.549900e+04</td>\n",
       "      <td>45242.000000</td>\n",
       "      <td>45499.000000</td>\n",
       "      <td>45499.000000</td>\n",
       "    </tr>\n",
       "    <tr>\n",
       "      <th>mean</th>\n",
       "      <td>108313.883038</td>\n",
       "      <td>4.226582e+06</td>\n",
       "      <td>2.922089</td>\n",
       "      <td>1.120738e+07</td>\n",
       "      <td>94.123978</td>\n",
       "      <td>5.618392</td>\n",
       "      <td>109.845425</td>\n",
       "    </tr>\n",
       "    <tr>\n",
       "      <th>std</th>\n",
       "      <td>112424.735997</td>\n",
       "      <td>1.742022e+07</td>\n",
       "      <td>6.003700</td>\n",
       "      <td>6.430694e+07</td>\n",
       "      <td>38.406211</td>\n",
       "      <td>1.923984</td>\n",
       "      <td>491.106752</td>\n",
       "    </tr>\n",
       "    <tr>\n",
       "      <th>min</th>\n",
       "      <td>2.000000</td>\n",
       "      <td>0.000000e+00</td>\n",
       "      <td>0.000000</td>\n",
       "      <td>0.000000e+00</td>\n",
       "      <td>0.000000</td>\n",
       "      <td>0.000000</td>\n",
       "      <td>0.000000</td>\n",
       "    </tr>\n",
       "    <tr>\n",
       "      <th>25%</th>\n",
       "      <td>26422.750000</td>\n",
       "      <td>0.000000e+00</td>\n",
       "      <td>0.386305</td>\n",
       "      <td>0.000000e+00</td>\n",
       "      <td>85.000000</td>\n",
       "      <td>5.000000</td>\n",
       "      <td>3.000000</td>\n",
       "    </tr>\n",
       "    <tr>\n",
       "      <th>50%</th>\n",
       "      <td>59999.000000</td>\n",
       "      <td>0.000000e+00</td>\n",
       "      <td>1.128317</td>\n",
       "      <td>0.000000e+00</td>\n",
       "      <td>95.000000</td>\n",
       "      <td>6.000000</td>\n",
       "      <td>10.000000</td>\n",
       "    </tr>\n",
       "    <tr>\n",
       "      <th>75%</th>\n",
       "      <td>157177.000000</td>\n",
       "      <td>0.000000e+00</td>\n",
       "      <td>3.681917</td>\n",
       "      <td>0.000000e+00</td>\n",
       "      <td>107.000000</td>\n",
       "      <td>6.800000</td>\n",
       "      <td>34.000000</td>\n",
       "    </tr>\n",
       "    <tr>\n",
       "      <th>max</th>\n",
       "      <td>469172.000000</td>\n",
       "      <td>3.800000e+08</td>\n",
       "      <td>547.488298</td>\n",
       "      <td>2.787965e+09</td>\n",
       "      <td>1256.000000</td>\n",
       "      <td>10.000000</td>\n",
       "      <td>14075.000000</td>\n",
       "    </tr>\n",
       "  </tbody>\n",
       "</table>\n",
       "</div>"
      ],
      "text/plain": [
       "                  id        budget    popularity       revenue       runtime  \\\n",
       "count   45502.000000  4.550200e+04  45499.000000  4.549900e+04  45242.000000   \n",
       "mean   108313.883038  4.226582e+06      2.922089  1.120738e+07     94.123978   \n",
       "std    112424.735997  1.742022e+07      6.003700  6.430694e+07     38.406211   \n",
       "min         2.000000  0.000000e+00      0.000000  0.000000e+00      0.000000   \n",
       "25%     26422.750000  0.000000e+00      0.386305  0.000000e+00     85.000000   \n",
       "50%     59999.000000  0.000000e+00      1.128317  0.000000e+00     95.000000   \n",
       "75%    157177.000000  0.000000e+00      3.681917  0.000000e+00    107.000000   \n",
       "max    469172.000000  3.800000e+08    547.488298  2.787965e+09   1256.000000   \n",
       "\n",
       "       vote_average    vote_count  \n",
       "count  45499.000000  45499.000000  \n",
       "mean       5.618392    109.845425  \n",
       "std        1.923984    491.106752  \n",
       "min        0.000000      0.000000  \n",
       "25%        5.000000      3.000000  \n",
       "50%        6.000000     10.000000  \n",
       "75%        6.800000     34.000000  \n",
       "max       10.000000  14075.000000  "
      ]
     },
     "execution_count": 20,
     "metadata": {},
     "output_type": "execute_result"
    }
   ],
   "source": [
    "df_movie.describe()"
   ]
  },
  {
   "cell_type": "code",
   "execution_count": 21,
   "id": "f77b86b4-35b5-4e8c-b02e-debc1850e2d2",
   "metadata": {},
   "outputs": [
    {
     "name": "stdout",
     "output_type": "stream",
     "text": [
      "<class 'pandas.core.frame.DataFrame'>\n",
      "Int64Index: 45502 entries, 0 to 45501\n",
      "Data columns (total 26 columns):\n",
      " #   Column                 Non-Null Count  Dtype         \n",
      "---  ------                 --------------  -----         \n",
      " 0   cast                   45502 non-null  object        \n",
      " 1   crew                   45502 non-null  object        \n",
      " 2   id                     45502 non-null  int64         \n",
      " 3   adult                  45502 non-null  object        \n",
      " 4   belongs_to_collection  4498 non-null   object        \n",
      " 5   budget                 45502 non-null  float64       \n",
      " 6   genres                 45502 non-null  object        \n",
      " 7   homepage               7788 non-null   object        \n",
      " 8   imdb_id                45485 non-null  object        \n",
      " 9   original_language      45491 non-null  object        \n",
      " 10  original_title         45502 non-null  object        \n",
      " 11  overview               44548 non-null  object        \n",
      " 12  popularity             45499 non-null  float64       \n",
      " 13  poster_path            45116 non-null  object        \n",
      " 14  production_companies   45499 non-null  object        \n",
      " 15  production_countries   45499 non-null  object        \n",
      " 16  release_date           45415 non-null  datetime64[ns]\n",
      " 17  revenue                45499 non-null  float64       \n",
      " 18  runtime                45242 non-null  float64       \n",
      " 19  spoken_languages       45499 non-null  object        \n",
      " 20  status                 45418 non-null  object        \n",
      " 21  tagline                20427 non-null  object        \n",
      " 22  title                  45499 non-null  object        \n",
      " 23  video                  45499 non-null  object        \n",
      " 24  vote_average           45499 non-null  float64       \n",
      " 25  vote_count             45499 non-null  float64       \n",
      "dtypes: datetime64[ns](1), float64(6), int64(1), object(18)\n",
      "memory usage: 10.4+ MB\n"
     ]
    }
   ],
   "source": [
    "df_movie.info()"
   ]
  },
  {
   "cell_type": "code",
   "execution_count": 22,
   "id": "5c1e7cfe-4e11-43ce-a95b-54f07195c7ea",
   "metadata": {},
   "outputs": [
    {
     "data": {
      "text/plain": [
       "8885"
      ]
     },
     "execution_count": 22,
     "metadata": {},
     "output_type": "execute_result"
    }
   ],
   "source": [
    "df_movie['budget'][df_movie['budget']>1].count()"
   ]
  },
  {
   "cell_type": "code",
   "execution_count": 23,
   "id": "953a373a-0381-44fe-943f-a3447aa534f7",
   "metadata": {},
   "outputs": [
    {
     "data": {
      "text/plain": [
       "<Axes: xlabel='vote_average', ylabel='Count'>"
      ]
     },
     "execution_count": 23,
     "metadata": {},
     "output_type": "execute_result"
    },
    {
     "data": {
      "image/png": "[encoded data removed]",
      "text/plain": [
       "<Figure size 640x480 with 1 Axes>"
      ]
     },
     "metadata": {},
     "output_type": "display_data"
    }
   ],
   "source": [
    "sns.histplot(df_movie['vote_average'], bins = 30)"
   ]
  },
  {
   "cell_type": "code",
   "execution_count": 24,
   "id": "8bdb67b3-d17f-40e5-9ddb-65f8eb6c9d47",
   "metadata": {},
   "outputs": [],
   "source": [
    "#sns.histplot(df_movie['vote_count'][df_movie['vote_count']>2000], bins = 10)"
   ]
  },
  {
   "cell_type": "code",
   "execution_count": 25,
   "id": "79920da5-1568-4670-a527-937e5a474a4f",
   "metadata": {},
   "outputs": [
    {
     "data": {
      "text/plain": [
       "count    45499.000000\n",
       "mean       109.845425\n",
       "std        491.106752\n",
       "min          0.000000\n",
       "25%          3.000000\n",
       "50%         10.000000\n",
       "75%         34.000000\n",
       "max      14075.000000\n",
       "Name: vote_count, dtype: float64"
      ]
     },
     "execution_count": 25,
     "metadata": {},
     "output_type": "execute_result"
    }
   ],
   "source": [
    "df_movie['vote_count'].describe()"
   ]
  },
  {
   "cell_type": "code",
   "execution_count": 27,
   "id": "f302b0ec-5b84-4833-92bb-fe2892da6a25",
   "metadata": {},
   "outputs": [],
   "source": [
    "m=100"
   ]
  },
  {
   "cell_type": "code",
   "execution_count": 28,
   "id": "b398b481-0a9f-41d7-9f05-1d7bdf5a306e",
   "metadata": {},
   "outputs": [
    {
     "data": {
      "text/plain": [
       "(6017, 24)"
      ]
     },
     "execution_count": 28,
     "metadata": {},
     "output_type": "execute_result"
    }
   ],
   "source": [
    "filter_movie = df_mov[df_mov['vote_count']>m]\n",
    "filter_movie.shape"
   ]
  },
  {
   "cell_type": "markdown",
   "id": "a964aaff-3b60-43d7-b16d-48aada1aec8b",
   "metadata": {
    "tags": []
   },
   "source": [
    "## Demographic Filtering"
   ]
  },
  {
   "cell_type": "markdown",
   "id": "c236423c-b526-4bc9-980e-adb74b0d7f19",
   "metadata": {
    "tags": []
   },
   "source": [
    "### Weighted rating"
   ]
  },
  {
   "cell_type": "markdown",
   "id": "0e45c9fe-f474-4c4b-a40e-cac76c04d5f6",
   "metadata": {},
   "source": [
    "Formula from IMDB ratings system:\n",
    "\n",
    "WR = v/(v+m).R + m/(v+m).C\n",
    "\n",
    "v   is the number of votes for the movie\n",
    "\n",
    "m   is the minimum votes required to be listed in the chart\n",
    "\n",
    "R   is the average rating of the movie\n",
    "\n",
    "C   is the mean vote across the whole report\n"
   ]
  },
  {
   "cell_type": "code",
   "execution_count": 29,
   "id": "aca9029d-d96a-4308-a55d-45ba32e2c097",
   "metadata": {},
   "outputs": [
    {
     "data": {
      "text/plain": [
       "5.618391613002483"
      ]
     },
     "execution_count": 29,
     "metadata": {},
     "output_type": "execute_result"
    }
   ],
   "source": [
    "C= df_movie['vote_average'].mean()\n",
    "C"
   ]
  },
  {
   "cell_type": "code",
   "execution_count": 30,
   "id": "313ef383-aba1-42a8-8d33-d77fdc9aae6d",
   "metadata": {},
   "outputs": [
    {
     "data": {
      "text/plain": [
       "160.0"
      ]
     },
     "execution_count": 30,
     "metadata": {},
     "output_type": "execute_result"
    }
   ],
   "source": [
    "m= df_movie['vote_count'].quantile(0.90)\n",
    "m\n",
    "# 90% of data is less than 160 review counts"
   ]
  },
  {
   "cell_type": "code",
   "execution_count": 31,
   "id": "8571e4e0-3f01-41f5-9500-7fb8d86c13a9",
   "metadata": {},
   "outputs": [],
   "source": [
    "def weighted_rating(x, m=m, C=C):\n",
    "    v = x['vote_count']\n",
    "    R = x['vote_average']\n",
    "    # Calculation based on the IMDB formula\n",
    "    return (v/(v+m) * R) + (m/(m+v) * C)"
   ]
  },
  {
   "cell_type": "code",
   "execution_count": 32,
   "id": "be3b95d1-5e27-461a-9b66-839e7d040139",
   "metadata": {},
   "outputs": [
    {
     "name": "stderr",
     "output_type": "stream",
     "text": [
      "C:\\Users\\soitb\\AppData\\Local\\Temp\\ipykernel_21816\\2551920373.py:1: SettingWithCopyWarning: \n",
      "A value is trying to be set on a copy of a slice from a DataFrame.\n",
      "Try using .loc[row_indexer,col_indexer] = value instead\n",
      "\n",
      "See the caveats in the documentation: https://pandas.pydata.org/pandas-docs/stable/user_guide/indexing.html#returning-a-view-versus-a-copy\n",
      "  filter_movie['score'] = filter_movie.apply(weighted_rating, axis=1)\n"
     ]
    }
   ],
   "source": [
    "filter_movie['score'] = filter_movie.apply(weighted_rating, axis=1)"
   ]
  },
  {
   "cell_type": "code",
   "execution_count": 33,
   "id": "d7ff2dc7-03f8-47cc-abdc-aa4f972f4992",
   "metadata": {},
   "outputs": [],
   "source": [
    "# Demographic filtering based on score calculated from IMDB weighted formula"
   ]
  },
  {
   "cell_type": "code",
   "execution_count": 34,
   "id": "25c54634-26d0-46a2-8b81-b79c20758864",
   "metadata": {},
   "outputs": [
    {
     "data": {
      "text/html": [
       "<div>\n",
       "<style scoped>\n",
       "    .dataframe tbody tr th:only-of-type {\n",
       "        vertical-align: middle;\n",
       "    }\n",
       "\n",
       "    .dataframe tbody tr th {\n",
       "        vertical-align: top;\n",
       "    }\n",
       "\n",
       "    .dataframe thead th {\n",
       "        text-align: right;\n",
       "    }\n",
       "</style>\n",
       "<table border=\"1\" class=\"dataframe\">\n",
       "  <thead>\n",
       "    <tr style=\"text-align: right;\">\n",
       "      <th></th>\n",
       "      <th>title</th>\n",
       "      <th>vote_count</th>\n",
       "      <th>vote_average</th>\n",
       "      <th>score</th>\n",
       "    </tr>\n",
       "  </thead>\n",
       "  <tbody>\n",
       "    <tr>\n",
       "      <th>314</th>\n",
       "      <td>The Shawshank Redemption</td>\n",
       "      <td>8358.0</td>\n",
       "      <td>8.5</td>\n",
       "      <td>8.445873</td>\n",
       "    </tr>\n",
       "    <tr>\n",
       "      <th>834</th>\n",
       "      <td>The Godfather</td>\n",
       "      <td>6024.0</td>\n",
       "      <td>8.5</td>\n",
       "      <td>8.425444</td>\n",
       "    </tr>\n",
       "    <tr>\n",
       "      <th>10306</th>\n",
       "      <td>Dilwale Dulhania Le Jayenge</td>\n",
       "      <td>661.0</td>\n",
       "      <td>9.1</td>\n",
       "      <td>8.421489</td>\n",
       "    </tr>\n",
       "    <tr>\n",
       "      <th>12478</th>\n",
       "      <td>The Dark Knight</td>\n",
       "      <td>12269.0</td>\n",
       "      <td>8.3</td>\n",
       "      <td>8.265479</td>\n",
       "    </tr>\n",
       "    <tr>\n",
       "      <th>2842</th>\n",
       "      <td>Fight Club</td>\n",
       "      <td>9678.0</td>\n",
       "      <td>8.3</td>\n",
       "      <td>8.256388</td>\n",
       "    </tr>\n",
       "    <tr>\n",
       "      <th>292</th>\n",
       "      <td>Pulp Fiction</td>\n",
       "      <td>8670.0</td>\n",
       "      <td>8.3</td>\n",
       "      <td>8.251409</td>\n",
       "    </tr>\n",
       "    <tr>\n",
       "      <th>522</th>\n",
       "      <td>Schindler's List</td>\n",
       "      <td>4436.0</td>\n",
       "      <td>8.3</td>\n",
       "      <td>8.206645</td>\n",
       "    </tr>\n",
       "    <tr>\n",
       "      <th>23664</th>\n",
       "      <td>Whiplash</td>\n",
       "      <td>4376.0</td>\n",
       "      <td>8.3</td>\n",
       "      <td>8.205411</td>\n",
       "    </tr>\n",
       "    <tr>\n",
       "      <th>5480</th>\n",
       "      <td>Spirited Away</td>\n",
       "      <td>3968.0</td>\n",
       "      <td>8.3</td>\n",
       "      <td>8.196062</td>\n",
       "    </tr>\n",
       "    <tr>\n",
       "      <th>2210</th>\n",
       "      <td>Life Is Beautiful</td>\n",
       "      <td>3643.0</td>\n",
       "      <td>8.3</td>\n",
       "      <td>8.187179</td>\n",
       "    </tr>\n",
       "    <tr>\n",
       "      <th>1178</th>\n",
       "      <td>The Godfather: Part II</td>\n",
       "      <td>3418.0</td>\n",
       "      <td>8.3</td>\n",
       "      <td>8.180085</td>\n",
       "    </tr>\n",
       "    <tr>\n",
       "      <th>1152</th>\n",
       "      <td>One Flew Over the Cuckoo's Nest</td>\n",
       "      <td>3001.0</td>\n",
       "      <td>8.3</td>\n",
       "      <td>8.164265</td>\n",
       "    </tr>\n",
       "    <tr>\n",
       "      <th>351</th>\n",
       "      <td>Forrest Gump</td>\n",
       "      <td>8147.0</td>\n",
       "      <td>8.2</td>\n",
       "      <td>8.150276</td>\n",
       "    </tr>\n",
       "    <tr>\n",
       "      <th>1154</th>\n",
       "      <td>The Empire Strikes Back</td>\n",
       "      <td>5998.0</td>\n",
       "      <td>8.2</td>\n",
       "      <td>8.132923</td>\n",
       "    </tr>\n",
       "    <tr>\n",
       "      <th>1176</th>\n",
       "      <td>Psycho</td>\n",
       "      <td>2405.0</td>\n",
       "      <td>8.3</td>\n",
       "      <td>8.132726</td>\n",
       "    </tr>\n",
       "    <tr>\n",
       "      <th>18460</th>\n",
       "      <td>The Intouchables</td>\n",
       "      <td>5410.0</td>\n",
       "      <td>8.2</td>\n",
       "      <td>8.125842</td>\n",
       "    </tr>\n",
       "    <tr>\n",
       "      <th>40236</th>\n",
       "      <td>Your Name.</td>\n",
       "      <td>1030.0</td>\n",
       "      <td>8.5</td>\n",
       "      <td>8.112557</td>\n",
       "    </tr>\n",
       "    <tr>\n",
       "      <th>289</th>\n",
       "      <td>Leon: The Professional</td>\n",
       "      <td>4293.0</td>\n",
       "      <td>8.2</td>\n",
       "      <td>8.107241</td>\n",
       "    </tr>\n",
       "    <tr>\n",
       "      <th>3029</th>\n",
       "      <td>The Green Mile</td>\n",
       "      <td>4166.0</td>\n",
       "      <td>8.2</td>\n",
       "      <td>8.104517</td>\n",
       "    </tr>\n",
       "    <tr>\n",
       "      <th>1170</th>\n",
       "      <td>GoodFellas</td>\n",
       "      <td>3211.0</td>\n",
       "      <td>8.2</td>\n",
       "      <td>8.077467</td>\n",
       "    </tr>\n",
       "  </tbody>\n",
       "</table>\n",
       "</div>"
      ],
      "text/plain": [
       "                                 title  vote_count  vote_average     score\n",
       "314           The Shawshank Redemption      8358.0           8.5  8.445873\n",
       "834                      The Godfather      6024.0           8.5  8.425444\n",
       "10306      Dilwale Dulhania Le Jayenge       661.0           9.1  8.421489\n",
       "12478                  The Dark Knight     12269.0           8.3  8.265479\n",
       "2842                        Fight Club      9678.0           8.3  8.256388\n",
       "292                       Pulp Fiction      8670.0           8.3  8.251409\n",
       "522                   Schindler's List      4436.0           8.3  8.206645\n",
       "23664                         Whiplash      4376.0           8.3  8.205411\n",
       "5480                     Spirited Away      3968.0           8.3  8.196062\n",
       "2210                 Life Is Beautiful      3643.0           8.3  8.187179\n",
       "1178            The Godfather: Part II      3418.0           8.3  8.180085\n",
       "1152   One Flew Over the Cuckoo's Nest      3001.0           8.3  8.164265\n",
       "351                       Forrest Gump      8147.0           8.2  8.150276\n",
       "1154           The Empire Strikes Back      5998.0           8.2  8.132923\n",
       "1176                            Psycho      2405.0           8.3  8.132726\n",
       "18460                 The Intouchables      5410.0           8.2  8.125842\n",
       "40236                       Your Name.      1030.0           8.5  8.112557\n",
       "289             Leon: The Professional      4293.0           8.2  8.107241\n",
       "3029                    The Green Mile      4166.0           8.2  8.104517\n",
       "1170                        GoodFellas      3211.0           8.2  8.077467"
      ]
     },
     "execution_count": 34,
     "metadata": {},
     "output_type": "execute_result"
    }
   ],
   "source": [
    "# Ratings based on calculated \"score  \"\n",
    "filter_movie[['title', 'vote_count', 'vote_average', 'score']].sort_values(by = 'score', ascending = False).head(20)"
   ]
  },
  {
   "cell_type": "code",
   "execution_count": 35,
   "id": "5c6920a0-271d-4787-8283-19ac280ad19c",
   "metadata": {},
   "outputs": [],
   "source": [
    "# popularity wise filtering of movies"
   ]
  },
  {
   "cell_type": "code",
   "execution_count": 36,
   "id": "6fa79df1-931a-416f-ab4f-d243e3889af6",
   "metadata": {},
   "outputs": [
    {
     "data": {
      "text/html": [
       "<div>\n",
       "<style scoped>\n",
       "    .dataframe tbody tr th:only-of-type {\n",
       "        vertical-align: middle;\n",
       "    }\n",
       "\n",
       "    .dataframe tbody tr th {\n",
       "        vertical-align: top;\n",
       "    }\n",
       "\n",
       "    .dataframe thead th {\n",
       "        text-align: right;\n",
       "    }\n",
       "</style>\n",
       "<table border=\"1\" class=\"dataframe\">\n",
       "  <thead>\n",
       "    <tr style=\"text-align: right;\">\n",
       "      <th></th>\n",
       "      <th>title</th>\n",
       "      <th>popularity</th>\n",
       "      <th>vote_count</th>\n",
       "      <th>vote_average</th>\n",
       "      <th>score</th>\n",
       "    </tr>\n",
       "  </thead>\n",
       "  <tbody>\n",
       "    <tr>\n",
       "      <th>536</th>\n",
       "      <td>Blade Runner</td>\n",
       "      <td>96.272374</td>\n",
       "      <td>3833.0</td>\n",
       "      <td>7.9</td>\n",
       "      <td>7.808576</td>\n",
       "    </tr>\n",
       "    <tr>\n",
       "      <th>3492</th>\n",
       "      <td>Dinosaur</td>\n",
       "      <td>9.998415</td>\n",
       "      <td>563.0</td>\n",
       "      <td>6.2</td>\n",
       "      <td>6.071290</td>\n",
       "    </tr>\n",
       "    <tr>\n",
       "      <th>10514</th>\n",
       "      <td>Jarhead</td>\n",
       "      <td>9.997032</td>\n",
       "      <td>776.0</td>\n",
       "      <td>6.6</td>\n",
       "      <td>6.432204</td>\n",
       "    </tr>\n",
       "    <tr>\n",
       "      <th>11249</th>\n",
       "      <td>The Last Kiss</td>\n",
       "      <td>9.996541</td>\n",
       "      <td>125.0</td>\n",
       "      <td>5.9</td>\n",
       "      <td>5.741904</td>\n",
       "    </tr>\n",
       "    <tr>\n",
       "      <th>18024</th>\n",
       "      <td>Dream House</td>\n",
       "      <td>9.995617</td>\n",
       "      <td>401.0</td>\n",
       "      <td>5.8</td>\n",
       "      <td>5.748204</td>\n",
       "    </tr>\n",
       "    <tr>\n",
       "      <th>1360</th>\n",
       "      <td>Hamlet</td>\n",
       "      <td>9.994088</td>\n",
       "      <td>118.0</td>\n",
       "      <td>7.3</td>\n",
       "      <td>6.332168</td>\n",
       "    </tr>\n",
       "    <tr>\n",
       "      <th>12050</th>\n",
       "      <td>4 Months, 3 Weeks and 2 Days</td>\n",
       "      <td>9.990406</td>\n",
       "      <td>158.0</td>\n",
       "      <td>7.4</td>\n",
       "      <td>6.503593</td>\n",
       "    </tr>\n",
       "    <tr>\n",
       "      <th>25384</th>\n",
       "      <td>Black Sea</td>\n",
       "      <td>9.989679</td>\n",
       "      <td>410.0</td>\n",
       "      <td>6.2</td>\n",
       "      <td>6.036742</td>\n",
       "    </tr>\n",
       "    <tr>\n",
       "      <th>5213</th>\n",
       "      <td>Hollywood Ending</td>\n",
       "      <td>9.987317</td>\n",
       "      <td>114.0</td>\n",
       "      <td>6.4</td>\n",
       "      <td>5.943586</td>\n",
       "    </tr>\n",
       "    <tr>\n",
       "      <th>4293</th>\n",
       "      <td>Cries and Whispers</td>\n",
       "      <td>9.983092</td>\n",
       "      <td>118.0</td>\n",
       "      <td>7.8</td>\n",
       "      <td>6.544398</td>\n",
       "    </tr>\n",
       "    <tr>\n",
       "      <th>20988</th>\n",
       "      <td>The Lords of Salem</td>\n",
       "      <td>9.981121</td>\n",
       "      <td>244.0</td>\n",
       "      <td>5.1</td>\n",
       "      <td>5.305304</td>\n",
       "    </tr>\n",
       "    <tr>\n",
       "      <th>12279</th>\n",
       "      <td>Charlie Wilson's War</td>\n",
       "      <td>9.979162</td>\n",
       "      <td>342.0</td>\n",
       "      <td>6.5</td>\n",
       "      <td>6.219009</td>\n",
       "    </tr>\n",
       "    <tr>\n",
       "      <th>3148</th>\n",
       "      <td>El Mariachi</td>\n",
       "      <td>9.972591</td>\n",
       "      <td>243.0</td>\n",
       "      <td>6.6</td>\n",
       "      <td>6.210280</td>\n",
       "    </tr>\n",
       "    <tr>\n",
       "      <th>4569</th>\n",
       "      <td>Original Sin</td>\n",
       "      <td>9.970359</td>\n",
       "      <td>200.0</td>\n",
       "      <td>5.8</td>\n",
       "      <td>5.719285</td>\n",
       "    </tr>\n",
       "    <tr>\n",
       "      <th>497</th>\n",
       "      <td>The Next Karate Kid</td>\n",
       "      <td>9.9697</td>\n",
       "      <td>202.0</td>\n",
       "      <td>4.8</td>\n",
       "      <td>5.161720</td>\n",
       "    </tr>\n",
       "    <tr>\n",
       "      <th>35682</th>\n",
       "      <td>The Devil's Candy</td>\n",
       "      <td>9.968649</td>\n",
       "      <td>114.0</td>\n",
       "      <td>6.4</td>\n",
       "      <td>5.943586</td>\n",
       "    </tr>\n",
       "    <tr>\n",
       "      <th>6856</th>\n",
       "      <td>Lorenzo's Oil</td>\n",
       "      <td>9.968395</td>\n",
       "      <td>108.0</td>\n",
       "      <td>6.6</td>\n",
       "      <td>6.013965</td>\n",
       "    </tr>\n",
       "    <tr>\n",
       "      <th>3892</th>\n",
       "      <td>What Women Want</td>\n",
       "      <td>9.963079</td>\n",
       "      <td>1021.0</td>\n",
       "      <td>6.1</td>\n",
       "      <td>6.034752</td>\n",
       "    </tr>\n",
       "    <tr>\n",
       "      <th>29146</th>\n",
       "      <td>Shaun the Sheep Movie</td>\n",
       "      <td>9.961184</td>\n",
       "      <td>456.0</td>\n",
       "      <td>6.9</td>\n",
       "      <td>6.567115</td>\n",
       "    </tr>\n",
       "    <tr>\n",
       "      <th>4034</th>\n",
       "      <td>The Mexican</td>\n",
       "      <td>9.958406</td>\n",
       "      <td>453.0</td>\n",
       "      <td>5.8</td>\n",
       "      <td>5.752598</td>\n",
       "    </tr>\n",
       "  </tbody>\n",
       "</table>\n",
       "</div>"
      ],
      "text/plain": [
       "                              title popularity  vote_count  vote_average  \\\n",
       "536                    Blade Runner  96.272374      3833.0           7.9   \n",
       "3492                       Dinosaur   9.998415       563.0           6.2   \n",
       "10514                       Jarhead   9.997032       776.0           6.6   \n",
       "11249                 The Last Kiss   9.996541       125.0           5.9   \n",
       "18024                   Dream House   9.995617       401.0           5.8   \n",
       "1360                         Hamlet   9.994088       118.0           7.3   \n",
       "12050  4 Months, 3 Weeks and 2 Days   9.990406       158.0           7.4   \n",
       "25384                     Black Sea   9.989679       410.0           6.2   \n",
       "5213               Hollywood Ending   9.987317       114.0           6.4   \n",
       "4293             Cries and Whispers   9.983092       118.0           7.8   \n",
       "20988            The Lords of Salem   9.981121       244.0           5.1   \n",
       "12279          Charlie Wilson's War   9.979162       342.0           6.5   \n",
       "3148                    El Mariachi   9.972591       243.0           6.6   \n",
       "4569                   Original Sin   9.970359       200.0           5.8   \n",
       "497             The Next Karate Kid     9.9697       202.0           4.8   \n",
       "35682             The Devil's Candy   9.968649       114.0           6.4   \n",
       "6856                  Lorenzo's Oil   9.968395       108.0           6.6   \n",
       "3892                What Women Want   9.963079      1021.0           6.1   \n",
       "29146         Shaun the Sheep Movie   9.961184       456.0           6.9   \n",
       "4034                    The Mexican   9.958406       453.0           5.8   \n",
       "\n",
       "          score  \n",
       "536    7.808576  \n",
       "3492   6.071290  \n",
       "10514  6.432204  \n",
       "11249  5.741904  \n",
       "18024  5.748204  \n",
       "1360   6.332168  \n",
       "12050  6.503593  \n",
       "25384  6.036742  \n",
       "5213   5.943586  \n",
       "4293   6.544398  \n",
       "20988  5.305304  \n",
       "12279  6.219009  \n",
       "3148   6.210280  \n",
       "4569   5.719285  \n",
       "497    5.161720  \n",
       "35682  5.943586  \n",
       "6856   6.013965  \n",
       "3892   6.034752  \n",
       "29146  6.567115  \n",
       "4034   5.752598  "
      ]
     },
     "execution_count": 36,
     "metadata": {},
     "output_type": "execute_result"
    }
   ],
   "source": [
    "filter_movie[['title','popularity', 'vote_count', 'vote_average', 'score']].sort_values(by = 'popularity', ascending = False).head(20)"
   ]
  },
  {
   "cell_type": "markdown",
   "id": "87ce7bd9-f45e-4093-9aea-145c78ec47ac",
   "metadata": {
    "tags": []
   },
   "source": [
    "## Content Based Filtering"
   ]
  },
  {
   "cell_type": "code",
   "execution_count": 37,
   "id": "b15cfdb7-e8ef-4fd1-9582-ac96936c4b76",
   "metadata": {},
   "outputs": [
    {
     "data": {
      "text/plain": [
       "\"Led by Woody, Andy's toys live happily in his room until Andy's birthday brings Buzz Lightyear onto the scene. Afraid of losing his place in Andy's heart, Woody plots against Buzz. But when circumstances separate Buzz and Woody from their owner, the duo eventually learns to put aside their differences.\""
      ]
     },
     "execution_count": 37,
     "metadata": {},
     "output_type": "execute_result"
    }
   ],
   "source": [
    "df_movie['overview'][0]"
   ]
  },
  {
   "cell_type": "code",
   "execution_count": 38,
   "id": "624498c4-603d-4cd7-a01e-862bea2d7db9",
   "metadata": {},
   "outputs": [
    {
     "data": {
      "text/plain": [
       "\"A family wedding reignites the ancient feud between next-door neighbors and fishing buddies John and Max. Meanwhile, a sultry Italian divorcée opens a restaurant at the local bait shop, alarming the locals who worry she'll scare the fish away. But she's less interested in seafood than she is in cooking up a hot time with Max.\""
      ]
     },
     "execution_count": 38,
     "metadata": {},
     "output_type": "execute_result"
    }
   ],
   "source": [
    "df_movie['overview'][2]"
   ]
  },
  {
   "cell_type": "code",
   "execution_count": 39,
   "id": "1eac064c-cef1-47b6-8bc1-942445a96bb6",
   "metadata": {},
   "outputs": [],
   "source": [
    "df_movie['overview'] = df_movie['overview'].fillna('')"
   ]
  },
  {
   "cell_type": "code",
   "execution_count": 40,
   "id": "1f0ee79d-eace-43a9-9583-3b3f238bc948",
   "metadata": {},
   "outputs": [],
   "source": [
    "from sklearn.feature_extraction.text import TfidfVectorizer"
   ]
  },
  {
   "cell_type": "code",
   "execution_count": 41,
   "id": "93fb1c10-2c3b-4552-a168-e61c29c48fa1",
   "metadata": {},
   "outputs": [],
   "source": [
    "# initializing the TfidfVectorizer with settings to remove stop words from the input.\n",
    "\n",
    "tfidf = TfidfVectorizer(stop_words='english')"
   ]
  },
  {
   "cell_type": "code",
   "execution_count": 42,
   "id": "16f03742-d876-4dd6-9900-7a3548df9d06",
   "metadata": {},
   "outputs": [],
   "source": [
    "# fitting and transforming the data\n",
    "\n",
    "matrix = tfidf.fit_transform(df_movie['overview'])\n",
    "\n",
    "\n",
    "# the output values in 'matrix' is between 0 and 1"
   ]
  },
  {
   "cell_type": "code",
   "execution_count": 43,
   "id": "a5431bf3-44e4-4028-94b1-acc6cc039164",
   "metadata": {},
   "outputs": [],
   "source": [
    "from sklearn.metrics.pairwise import linear_kernel"
   ]
  },
  {
   "cell_type": "code",
   "execution_count": 44,
   "id": "99b23aa8-69a9-4656-9381-0b57222fce4a",
   "metadata": {},
   "outputs": [],
   "source": [
    "# computing cosine similarity between each movie to all other movies\n",
    "cosine_sim = linear_kernel(matrix, matrix)"
   ]
  },
  {
   "cell_type": "code",
   "execution_count": 45,
   "id": "59bacb48-a9ec-4426-b3ae-7606b7d8afc0",
   "metadata": {},
   "outputs": [],
   "source": [
    "# Check if cosine_similarity and linear_kernal is giving same output for the tfidfvectorizer matrix------------?????????????????????????????????\n",
    "\n",
    "#cosine_sim_tfidf = cosine_similarity(matrix[0:], matrix[0:])\n",
    "#cosine_sim_tfidf"
   ]
  },
  {
   "cell_type": "code",
   "execution_count": 46,
   "id": "a8df8098-f021-41b6-9926-6425673bfafb",
   "metadata": {},
   "outputs": [
    {
     "data": {
      "text/html": [
       "<div>\n",
       "<style scoped>\n",
       "    .dataframe tbody tr th:only-of-type {\n",
       "        vertical-align: middle;\n",
       "    }\n",
       "\n",
       "    .dataframe tbody tr th {\n",
       "        vertical-align: top;\n",
       "    }\n",
       "\n",
       "    .dataframe thead th {\n",
       "        text-align: right;\n",
       "    }\n",
       "</style>\n",
       "<table border=\"1\" class=\"dataframe\">\n",
       "  <thead>\n",
       "    <tr style=\"text-align: right;\">\n",
       "      <th></th>\n",
       "      <th>title</th>\n",
       "      <th>overview</th>\n",
       "    </tr>\n",
       "  </thead>\n",
       "  <tbody>\n",
       "    <tr>\n",
       "      <th>0</th>\n",
       "      <td>Toy Story</td>\n",
       "      <td>Led by Woody, Andy's toys live happily in his ...</td>\n",
       "    </tr>\n",
       "    <tr>\n",
       "      <th>1</th>\n",
       "      <td>Jumanji</td>\n",
       "      <td>When siblings Judy and Peter discover an encha...</td>\n",
       "    </tr>\n",
       "    <tr>\n",
       "      <th>2</th>\n",
       "      <td>Grumpier Old Men</td>\n",
       "      <td>A family wedding reignites the ancient feud be...</td>\n",
       "    </tr>\n",
       "    <tr>\n",
       "      <th>3</th>\n",
       "      <td>Waiting to Exhale</td>\n",
       "      <td>Cheated on, mistreated and stepped on, the wom...</td>\n",
       "    </tr>\n",
       "    <tr>\n",
       "      <th>4</th>\n",
       "      <td>Father of the Bride Part II</td>\n",
       "      <td>Just when George Banks has recovered from his ...</td>\n",
       "    </tr>\n",
       "    <tr>\n",
       "      <th>...</th>\n",
       "      <td>...</td>\n",
       "      <td>...</td>\n",
       "    </tr>\n",
       "    <tr>\n",
       "      <th>45497</th>\n",
       "      <td>Subdue</td>\n",
       "      <td>Rising and falling between a man and woman.</td>\n",
       "    </tr>\n",
       "    <tr>\n",
       "      <th>45498</th>\n",
       "      <td>Century of Birthing</td>\n",
       "      <td>An artist struggles to finish his work while a...</td>\n",
       "    </tr>\n",
       "    <tr>\n",
       "      <th>45499</th>\n",
       "      <td>Betrayal</td>\n",
       "      <td>When one of her hits goes wrong, a professiona...</td>\n",
       "    </tr>\n",
       "    <tr>\n",
       "      <th>45500</th>\n",
       "      <td>Satan Triumphant</td>\n",
       "      <td>In a small town live two brothers, one a minis...</td>\n",
       "    </tr>\n",
       "    <tr>\n",
       "      <th>45501</th>\n",
       "      <td>Queerama</td>\n",
       "      <td>50 years after decriminalisation of homosexual...</td>\n",
       "    </tr>\n",
       "  </tbody>\n",
       "</table>\n",
       "<p>45502 rows × 2 columns</p>\n",
       "</div>"
      ],
      "text/plain": [
       "                             title  \\\n",
       "0                        Toy Story   \n",
       "1                          Jumanji   \n",
       "2                 Grumpier Old Men   \n",
       "3                Waiting to Exhale   \n",
       "4      Father of the Bride Part II   \n",
       "...                            ...   \n",
       "45497                       Subdue   \n",
       "45498          Century of Birthing   \n",
       "45499                     Betrayal   \n",
       "45500             Satan Triumphant   \n",
       "45501                     Queerama   \n",
       "\n",
       "                                                overview  \n",
       "0      Led by Woody, Andy's toys live happily in his ...  \n",
       "1      When siblings Judy and Peter discover an encha...  \n",
       "2      A family wedding reignites the ancient feud be...  \n",
       "3      Cheated on, mistreated and stepped on, the wom...  \n",
       "4      Just when George Banks has recovered from his ...  \n",
       "...                                                  ...  \n",
       "45497        Rising and falling between a man and woman.  \n",
       "45498  An artist struggles to finish his work while a...  \n",
       "45499  When one of her hits goes wrong, a professiona...  \n",
       "45500  In a small town live two brothers, one a minis...  \n",
       "45501  50 years after decriminalisation of homosexual...  \n",
       "\n",
       "[45502 rows x 2 columns]"
      ]
     },
     "execution_count": 46,
     "metadata": {},
     "output_type": "execute_result"
    }
   ],
   "source": [
    "df_movie[['title','overview']]"
   ]
  },
  {
   "cell_type": "code",
   "execution_count": 47,
   "id": "a8006527-401e-4ab1-bb09-092789408f42",
   "metadata": {},
   "outputs": [],
   "source": [
    "indices = pd.Series(df_movie.index, index=df_movie['title']).drop_duplicates()"
   ]
  },
  {
   "cell_type": "code",
   "execution_count": 48,
   "id": "a9ae16d7-4ebc-423e-80da-819063c6c2a3",
   "metadata": {},
   "outputs": [
    {
     "data": {
      "text/plain": [
       "title\n",
       "Toy Story                          0\n",
       "Jumanji                            1\n",
       "Grumpier Old Men                   2\n",
       "Waiting to Exhale                  3\n",
       "Father of the Bride Part II        4\n",
       "                               ...  \n",
       "Subdue                         45497\n",
       "Century of Birthing            45498\n",
       "Betrayal                       45499\n",
       "Satan Triumphant               45500\n",
       "Queerama                       45501\n",
       "Length: 45502, dtype: int64"
      ]
     },
     "execution_count": 48,
     "metadata": {},
     "output_type": "execute_result"
    }
   ],
   "source": [
    "indices"
   ]
  },
  {
   "cell_type": "code",
   "execution_count": 49,
   "id": "97622c55-624c-4090-b7fb-e901c81eacbd",
   "metadata": {},
   "outputs": [],
   "source": [
    "# list of tuple [(index of the movie being compared, score)]\n",
    "\n",
    "def recommendations(movie, n, cosine_sim=cosine_sim):\n",
    "    movie_index = indices[movie]\n",
    "    \n",
    "    # calculating the matrix of similarity score got from comparing given movie to all other movies\n",
    "    sim_score = cosine_sim[movie_index]\n",
    "    \n",
    "    # list of tuple of movies index and their respective similarity score\n",
    "    sim_list = list(zip(list(range(len(sim_score))),sim_score))\n",
    "    # above line can be achieved by list(enumerate(sim_score))\n",
    "    \n",
    "    # sorting based on descending (Highest to lowest) similarity score\n",
    "    sim_list.sort(key = lambda x: x[1], reverse = True)\n",
    "    \n",
    "    # Picking top 10 scores\n",
    "    # n is number of top similar movies to show\n",
    "    sim_list = sim_list[1:n]\n",
    "    \n",
    "    # getting the list of indices of top 10 similar movies\n",
    "    sim_mov_ind = [i[0] for i in sim_list]\n",
    "    \n",
    "    # getting the list of score of top 10 similar movies\n",
    "    sim_mov_score = [i[1] for i in sim_list]\n",
    "    \n",
    "    # Making a new dataframe containing title of the movie\n",
    "    df = df_movie['title'].iloc[sim_mov_ind].reset_index()\n",
    "    \n",
    "    # adding a new column named 'score' to dataframe\n",
    "    df['score'] = sim_mov_score\n",
    "    \n",
    "    return df"
   ]
  },
  {
   "cell_type": "code",
   "execution_count": 50,
   "id": "99bde8f6-1695-4e26-9919-0c037ce5aa26",
   "metadata": {},
   "outputs": [
    {
     "data": {
      "text/html": [
       "<div>\n",
       "<style scoped>\n",
       "    .dataframe tbody tr th:only-of-type {\n",
       "        vertical-align: middle;\n",
       "    }\n",
       "\n",
       "    .dataframe tbody tr th {\n",
       "        vertical-align: top;\n",
       "    }\n",
       "\n",
       "    .dataframe thead th {\n",
       "        text-align: right;\n",
       "    }\n",
       "</style>\n",
       "<table border=\"1\" class=\"dataframe\">\n",
       "  <thead>\n",
       "    <tr style=\"text-align: right;\">\n",
       "      <th></th>\n",
       "      <th>index</th>\n",
       "      <th>title</th>\n",
       "      <th>score</th>\n",
       "    </tr>\n",
       "  </thead>\n",
       "  <tbody>\n",
       "    <tr>\n",
       "      <th>0</th>\n",
       "      <td>15363</td>\n",
       "      <td>Toy Story 3</td>\n",
       "      <td>0.531964</td>\n",
       "    </tr>\n",
       "    <tr>\n",
       "      <th>1</th>\n",
       "      <td>3000</td>\n",
       "      <td>Toy Story 2</td>\n",
       "      <td>0.472059</td>\n",
       "    </tr>\n",
       "    <tr>\n",
       "      <th>2</th>\n",
       "      <td>10311</td>\n",
       "      <td>The 40 Year Old Virgin</td>\n",
       "      <td>0.275073</td>\n",
       "    </tr>\n",
       "    <tr>\n",
       "      <th>3</th>\n",
       "      <td>24542</td>\n",
       "      <td>Small Fry</td>\n",
       "      <td>0.273084</td>\n",
       "    </tr>\n",
       "    <tr>\n",
       "      <th>4</th>\n",
       "      <td>23862</td>\n",
       "      <td>Andy Hardy's Blonde Trouble</td>\n",
       "      <td>0.235562</td>\n",
       "    </tr>\n",
       "    <tr>\n",
       "      <th>5</th>\n",
       "      <td>29236</td>\n",
       "      <td>Hot Splash</td>\n",
       "      <td>0.223858</td>\n",
       "    </tr>\n",
       "    <tr>\n",
       "      <th>6</th>\n",
       "      <td>43461</td>\n",
       "      <td>Andy Kaufman Plays Carnegie Hall</td>\n",
       "      <td>0.217707</td>\n",
       "    </tr>\n",
       "    <tr>\n",
       "      <th>7</th>\n",
       "      <td>38511</td>\n",
       "      <td>Superstar: The Life and Times of Andy Warhol</td>\n",
       "      <td>0.215973</td>\n",
       "    </tr>\n",
       "    <tr>\n",
       "      <th>8</th>\n",
       "      <td>42756</td>\n",
       "      <td>Andy Peters: Exclamation Mark Question Point</td>\n",
       "      <td>0.201995</td>\n",
       "    </tr>\n",
       "  </tbody>\n",
       "</table>\n",
       "</div>"
      ],
      "text/plain": [
       "   index                                         title     score\n",
       "0  15363                                   Toy Story 3  0.531964\n",
       "1   3000                                   Toy Story 2  0.472059\n",
       "2  10311                        The 40 Year Old Virgin  0.275073\n",
       "3  24542                                     Small Fry  0.273084\n",
       "4  23862                   Andy Hardy's Blonde Trouble  0.235562\n",
       "5  29236                                    Hot Splash  0.223858\n",
       "6  43461              Andy Kaufman Plays Carnegie Hall  0.217707\n",
       "7  38511  Superstar: The Life and Times of Andy Warhol  0.215973\n",
       "8  42756  Andy Peters: Exclamation Mark Question Point  0.201995"
      ]
     },
     "execution_count": 50,
     "metadata": {},
     "output_type": "execute_result"
    }
   ],
   "source": [
    "recommendations('Toy Story',10)"
   ]
  },
  {
   "cell_type": "code",
   "execution_count": 51,
   "id": "ab5c17f3-5dd2-4a60-981a-a2e49991f1e4",
   "metadata": {},
   "outputs": [
    {
     "data": {
      "text/plain": [
       "Index(['cast', 'crew', 'id', 'adult', 'belongs_to_collection', 'budget',\n",
       "       'genres', 'homepage', 'imdb_id', 'original_language', 'original_title',\n",
       "       'overview', 'popularity', 'poster_path', 'production_companies',\n",
       "       'production_countries', 'release_date', 'revenue', 'runtime',\n",
       "       'spoken_languages', 'status', 'tagline', 'title', 'video',\n",
       "       'vote_average', 'vote_count'],\n",
       "      dtype='object')"
      ]
     },
     "execution_count": 51,
     "metadata": {},
     "output_type": "execute_result"
    }
   ],
   "source": [
    "df_movie.columns"
   ]
  },
  {
   "cell_type": "code",
   "execution_count": 52,
   "id": "d13766e7-1e07-4822-81d8-9c0d893e0161",
   "metadata": {},
   "outputs": [],
   "source": [
    "from ast import literal_eval"
   ]
  },
  {
   "cell_type": "code",
   "execution_count": 53,
   "id": "b74bc378-aa5e-423a-8dc2-979108914e31",
   "metadata": {},
   "outputs": [],
   "source": [
    "# changing the strig to list of dictionary using literal_eval() function\n",
    "\n",
    "for i in ['cast', 'crew','genres']:\n",
    "    df_movie[i] = df_movie[i].apply(literal_eval)"
   ]
  },
  {
   "cell_type": "code",
   "execution_count": 54,
   "id": "411a8b26-a29e-4a7f-92fe-1d6a0deacaf6",
   "metadata": {},
   "outputs": [
    {
     "data": {
      "text/html": [
       "<div>\n",
       "<style scoped>\n",
       "    .dataframe tbody tr th:only-of-type {\n",
       "        vertical-align: middle;\n",
       "    }\n",
       "\n",
       "    .dataframe tbody tr th {\n",
       "        vertical-align: top;\n",
       "    }\n",
       "\n",
       "    .dataframe thead th {\n",
       "        text-align: right;\n",
       "    }\n",
       "</style>\n",
       "<table border=\"1\" class=\"dataframe\">\n",
       "  <thead>\n",
       "    <tr style=\"text-align: right;\">\n",
       "      <th></th>\n",
       "      <th>cast</th>\n",
       "      <th>crew</th>\n",
       "      <th>genres</th>\n",
       "    </tr>\n",
       "  </thead>\n",
       "  <tbody>\n",
       "    <tr>\n",
       "      <th>0</th>\n",
       "      <td>[{'cast_id': 14, 'character': 'Woody (voice)',...</td>\n",
       "      <td>[{'credit_id': '52fe4284c3a36847f8024f49', 'de...</td>\n",
       "      <td>[{'id': 16, 'name': 'Animation'}, {'id': 35, '...</td>\n",
       "    </tr>\n",
       "    <tr>\n",
       "      <th>1</th>\n",
       "      <td>[{'cast_id': 1, 'character': 'Alan Parrish', '...</td>\n",
       "      <td>[{'credit_id': '52fe44bfc3a36847f80a7cd1', 'de...</td>\n",
       "      <td>[{'id': 12, 'name': 'Adventure'}, {'id': 14, '...</td>\n",
       "    </tr>\n",
       "    <tr>\n",
       "      <th>2</th>\n",
       "      <td>[{'cast_id': 2, 'character': 'Max Goldman', 'c...</td>\n",
       "      <td>[{'credit_id': '52fe466a9251416c75077a89', 'de...</td>\n",
       "      <td>[{'id': 10749, 'name': 'Romance'}, {'id': 35, ...</td>\n",
       "    </tr>\n",
       "    <tr>\n",
       "      <th>3</th>\n",
       "      <td>[{'cast_id': 1, 'character': 'Savannah 'Vannah...</td>\n",
       "      <td>[{'credit_id': '52fe44779251416c91011acb', 'de...</td>\n",
       "      <td>[{'id': 35, 'name': 'Comedy'}, {'id': 18, 'nam...</td>\n",
       "    </tr>\n",
       "    <tr>\n",
       "      <th>4</th>\n",
       "      <td>[{'cast_id': 1, 'character': 'George Banks', '...</td>\n",
       "      <td>[{'credit_id': '52fe44959251416c75039ed7', 'de...</td>\n",
       "      <td>[{'id': 35, 'name': 'Comedy'}]</td>\n",
       "    </tr>\n",
       "  </tbody>\n",
       "</table>\n",
       "</div>"
      ],
      "text/plain": [
       "                                                cast  \\\n",
       "0  [{'cast_id': 14, 'character': 'Woody (voice)',...   \n",
       "1  [{'cast_id': 1, 'character': 'Alan Parrish', '...   \n",
       "2  [{'cast_id': 2, 'character': 'Max Goldman', 'c...   \n",
       "3  [{'cast_id': 1, 'character': 'Savannah 'Vannah...   \n",
       "4  [{'cast_id': 1, 'character': 'George Banks', '...   \n",
       "\n",
       "                                                crew  \\\n",
       "0  [{'credit_id': '52fe4284c3a36847f8024f49', 'de...   \n",
       "1  [{'credit_id': '52fe44bfc3a36847f80a7cd1', 'de...   \n",
       "2  [{'credit_id': '52fe466a9251416c75077a89', 'de...   \n",
       "3  [{'credit_id': '52fe44779251416c91011acb', 'de...   \n",
       "4  [{'credit_id': '52fe44959251416c75039ed7', 'de...   \n",
       "\n",
       "                                              genres  \n",
       "0  [{'id': 16, 'name': 'Animation'}, {'id': 35, '...  \n",
       "1  [{'id': 12, 'name': 'Adventure'}, {'id': 14, '...  \n",
       "2  [{'id': 10749, 'name': 'Romance'}, {'id': 35, ...  \n",
       "3  [{'id': 35, 'name': 'Comedy'}, {'id': 18, 'nam...  \n",
       "4                     [{'id': 35, 'name': 'Comedy'}]  "
      ]
     },
     "execution_count": 54,
     "metadata": {},
     "output_type": "execute_result"
    }
   ],
   "source": [
    "df_movie[['cast', 'crew','genres']].head()"
   ]
  },
  {
   "cell_type": "code",
   "execution_count": 55,
   "id": "28fc515b-2735-434c-990b-f38b023f67db",
   "metadata": {},
   "outputs": [],
   "source": [
    "#df_movie['crew'][12495][4]['job']"
   ]
  },
  {
   "cell_type": "code",
   "execution_count": 56,
   "id": "d988885c-f2a3-4509-9f0f-55440bade3bf",
   "metadata": {},
   "outputs": [],
   "source": [
    "#df_movie['cast'][12495][0]['name']"
   ]
  },
  {
   "cell_type": "code",
   "execution_count": 57,
   "id": "c289e803-53b0-4331-8e05-3e84994a3bfa",
   "metadata": {},
   "outputs": [],
   "source": [
    "# get the director name for one row (perticular movie)\n",
    "# x here is the list of dictionary containing crew information for a movie\n",
    "\n",
    "def get_director(x):\n",
    "    for i in x:\n",
    "        if i['job'] == 'Director':\n",
    "            return i['name']\n",
    "    return np.nan"
   ]
  },
  {
   "cell_type": "code",
   "execution_count": 58,
   "id": "29a46dc1-3cfa-4472-b3ce-60ab8474187a",
   "metadata": {},
   "outputs": [
    {
     "data": {
      "text/plain": [
       "'Christopher Nolan'"
      ]
     },
     "execution_count": 58,
     "metadata": {},
     "output_type": "execute_result"
    }
   ],
   "source": [
    "get_director(df_movie['crew'][12495])"
   ]
  },
  {
   "cell_type": "code",
   "execution_count": 59,
   "id": "7653df8d-0bde-4434-a2cf-43f087bbd509",
   "metadata": {},
   "outputs": [],
   "source": [
    "# [i['name'] for i in df_movie['cast'][12495][0:3]]"
   ]
  },
  {
   "cell_type": "code",
   "execution_count": 60,
   "id": "d22c5783-bd9c-45fb-b8a7-a41d438ea4e2",
   "metadata": {},
   "outputs": [],
   "source": [
    "# for y in range(2):\n",
    "#     print([i['name'] for i in df_movie['cast'][y][0:3]])"
   ]
  },
  {
   "cell_type": "code",
   "execution_count": 61,
   "id": "1008035e-cb56-4248-ac9c-f4e726081d4e",
   "metadata": {},
   "outputs": [],
   "source": [
    "# [i['name'] for i in df_movie['genres'][12495][0:3]]"
   ]
  },
  {
   "cell_type": "code",
   "execution_count": 62,
   "id": "7a79aeb7-0cec-4dd2-a216-061dc7a4c805",
   "metadata": {},
   "outputs": [],
   "source": [
    "# get the list of 3 elements from genres and cast for a movie\n",
    "\n",
    "def listoftop3(x):\n",
    "    name = []\n",
    "    if len(x)>=3:\n",
    "        for i in range(3):\n",
    "            name.append(x[i]['name'])\n",
    "    if len(x)<3:\n",
    "        for i in range(len(x)):\n",
    "            name.append(x[i]['name'])\n",
    "    # can be done in one line by -->\n",
    "    # name = [i['name'] for i in x]\n",
    "    return name\n"
   ]
  },
  {
   "cell_type": "code",
   "execution_count": 63,
   "id": "78ae411e-3218-4a23-a16c-b3084a63b6c5",
   "metadata": {},
   "outputs": [],
   "source": [
    "#x = []\n",
    "#isinstance(x,list)\n",
    "#[i['name'] for i in x]"
   ]
  },
  {
   "cell_type": "code",
   "execution_count": 64,
   "id": "c27faf1b-aa70-49f6-ad1f-706c9cf7ffd0",
   "metadata": {},
   "outputs": [
    {
     "data": {
      "text/plain": [
       "['Christian Bale', 'Michael Caine', 'Heath Ledger']"
      ]
     },
     "execution_count": 64,
     "metadata": {},
     "output_type": "execute_result"
    }
   ],
   "source": [
    "listoftop3(df_movie['cast'][12495])"
   ]
  },
  {
   "cell_type": "code",
   "execution_count": 65,
   "id": "9a2b30c0-524b-4b70-b4dd-5b63ef2155ed",
   "metadata": {},
   "outputs": [],
   "source": [
    "# compute the director column from get_director function\n",
    "\n",
    "df_movie['director'] = df_movie['crew'].apply(get_director)"
   ]
  },
  {
   "cell_type": "code",
   "execution_count": 66,
   "id": "874f7eb3-3a90-469c-b0f0-d061a9791453",
   "metadata": {},
   "outputs": [],
   "source": [
    "# computing the top 3 cast and genres column from listoftop3 function\n",
    "\n",
    "features = ['cast', 'genres']\n",
    "for i in features:\n",
    "    y = i + '_Top3'\n",
    "    df_movie[y] = df_movie[i].apply(listoftop3)"
   ]
  },
  {
   "cell_type": "code",
   "execution_count": 67,
   "id": "916984cf-86af-4e29-b3ce-0ec4c37834a5",
   "metadata": {},
   "outputs": [
    {
     "data": {
      "text/plain": [
       "Index(['cast', 'crew', 'id', 'adult', 'belongs_to_collection', 'budget',\n",
       "       'genres', 'homepage', 'imdb_id', 'original_language', 'original_title',\n",
       "       'overview', 'popularity', 'poster_path', 'production_companies',\n",
       "       'production_countries', 'release_date', 'revenue', 'runtime',\n",
       "       'spoken_languages', 'status', 'tagline', 'title', 'video',\n",
       "       'vote_average', 'vote_count', 'director', 'cast_Top3', 'genres_Top3'],\n",
       "      dtype='object')"
      ]
     },
     "execution_count": 67,
     "metadata": {},
     "output_type": "execute_result"
    }
   ],
   "source": [
    "df_movie.columns"
   ]
  },
  {
   "cell_type": "code",
   "execution_count": 68,
   "id": "ce7c6f3d-8fd2-4a5b-8799-b1233ae77d0d",
   "metadata": {},
   "outputs": [
    {
     "data": {
      "text/html": [
       "<div>\n",
       "<style scoped>\n",
       "    .dataframe tbody tr th:only-of-type {\n",
       "        vertical-align: middle;\n",
       "    }\n",
       "\n",
       "    .dataframe tbody tr th {\n",
       "        vertical-align: top;\n",
       "    }\n",
       "\n",
       "    .dataframe thead th {\n",
       "        text-align: right;\n",
       "    }\n",
       "</style>\n",
       "<table border=\"1\" class=\"dataframe\">\n",
       "  <thead>\n",
       "    <tr style=\"text-align: right;\">\n",
       "      <th></th>\n",
       "      <th>title</th>\n",
       "      <th>director</th>\n",
       "      <th>cast_Top3</th>\n",
       "      <th>genres_Top3</th>\n",
       "    </tr>\n",
       "  </thead>\n",
       "  <tbody>\n",
       "    <tr>\n",
       "      <th>0</th>\n",
       "      <td>Toy Story</td>\n",
       "      <td>John Lasseter</td>\n",
       "      <td>[Tom Hanks, Tim Allen, Don Rickles]</td>\n",
       "      <td>[Animation, Comedy, Family]</td>\n",
       "    </tr>\n",
       "    <tr>\n",
       "      <th>1</th>\n",
       "      <td>Jumanji</td>\n",
       "      <td>Joe Johnston</td>\n",
       "      <td>[Robin Williams, Jonathan Hyde, Kirsten Dunst]</td>\n",
       "      <td>[Adventure, Fantasy, Family]</td>\n",
       "    </tr>\n",
       "    <tr>\n",
       "      <th>2</th>\n",
       "      <td>Grumpier Old Men</td>\n",
       "      <td>Howard Deutch</td>\n",
       "      <td>[Walter Matthau, Jack Lemmon, Ann-Margret]</td>\n",
       "      <td>[Romance, Comedy]</td>\n",
       "    </tr>\n",
       "    <tr>\n",
       "      <th>3</th>\n",
       "      <td>Waiting to Exhale</td>\n",
       "      <td>Forest Whitaker</td>\n",
       "      <td>[Whitney Houston, Angela Bassett, Loretta Devine]</td>\n",
       "      <td>[Comedy, Drama, Romance]</td>\n",
       "    </tr>\n",
       "    <tr>\n",
       "      <th>4</th>\n",
       "      <td>Father of the Bride Part II</td>\n",
       "      <td>Charles Shyer</td>\n",
       "      <td>[Steve Martin, Diane Keaton, Martin Short]</td>\n",
       "      <td>[Comedy]</td>\n",
       "    </tr>\n",
       "  </tbody>\n",
       "</table>\n",
       "</div>"
      ],
      "text/plain": [
       "                         title         director  \\\n",
       "0                    Toy Story    John Lasseter   \n",
       "1                      Jumanji     Joe Johnston   \n",
       "2             Grumpier Old Men    Howard Deutch   \n",
       "3            Waiting to Exhale  Forest Whitaker   \n",
       "4  Father of the Bride Part II    Charles Shyer   \n",
       "\n",
       "                                           cast_Top3  \\\n",
       "0                [Tom Hanks, Tim Allen, Don Rickles]   \n",
       "1     [Robin Williams, Jonathan Hyde, Kirsten Dunst]   \n",
       "2         [Walter Matthau, Jack Lemmon, Ann-Margret]   \n",
       "3  [Whitney Houston, Angela Bassett, Loretta Devine]   \n",
       "4         [Steve Martin, Diane Keaton, Martin Short]   \n",
       "\n",
       "                    genres_Top3  \n",
       "0   [Animation, Comedy, Family]  \n",
       "1  [Adventure, Fantasy, Family]  \n",
       "2             [Romance, Comedy]  \n",
       "3      [Comedy, Drama, Romance]  \n",
       "4                      [Comedy]  "
      ]
     },
     "execution_count": 68,
     "metadata": {},
     "output_type": "execute_result"
    }
   ],
   "source": [
    "df_movie[['title', 'director', 'cast_Top3', 'genres_Top3']].head(5)"
   ]
  },
  {
   "cell_type": "code",
   "execution_count": 69,
   "id": "19e5ff4f-f70e-4709-844d-4a3d55422908",
   "metadata": {},
   "outputs": [],
   "source": [
    "# cleaning data of spaces\n",
    "\n",
    "def clean_data(x):\n",
    "    if isinstance(x, list):\n",
    "        return [str.lower(i.replace(\" \", \"\")) for i in x]\n",
    "    else:\n",
    "        #Check if director exists. If not, return empty string\n",
    "        if isinstance(x, str):\n",
    "            return str.lower(x.replace(\" \", \"\"))\n",
    "        else:\n",
    "            return ''"
   ]
  },
  {
   "cell_type": "code",
   "execution_count": 70,
   "id": "0f9b6a36-f92b-42ae-9df1-7566d0b8e089",
   "metadata": {},
   "outputs": [],
   "source": [
    "# Applying clean_data function to your features.\n",
    "\n",
    "features = ['cast_Top3', 'director', 'genres_Top3']\n",
    "\n",
    "for feature in features:\n",
    "    df_movie[feature] = df_movie[feature].apply(clean_data)"
   ]
  },
  {
   "cell_type": "code",
   "execution_count": 71,
   "id": "28636ac2-2726-43c1-b7ba-82f1a273c42e",
   "metadata": {},
   "outputs": [],
   "source": [
    "# now we will put all the data (cast, director and genres) in one string and make a new column name soup\n",
    "\n",
    "# join all the data from these 3 columns seperated by space using string concatenation using join function\n",
    "## Join method takes all items from iterable and joins them and seperate them based on seperator\n",
    "\n",
    "def create_soup(x):\n",
    "    return ' '.join(x['cast_Top3']) + ' ' + x['director'] + ' ' + ' '.join(x['genres_Top3'])"
   ]
  },
  {
   "cell_type": "code",
   "execution_count": 72,
   "id": "a2d35a5b-241a-4d68-a6e5-e1e3b7c97571",
   "metadata": {},
   "outputs": [],
   "source": [
    "# applying join and creating soup coloumn \n",
    "\n",
    "df_movie['soup'] = df_movie.apply(create_soup, axis=1)"
   ]
  },
  {
   "cell_type": "code",
   "execution_count": 73,
   "id": "46fa06c6-9802-476f-8b08-ba03d2621430",
   "metadata": {},
   "outputs": [],
   "source": [
    "# Using Bag of word approach to vectorize the soup column\n",
    "\n",
    "# not using tfidf bcz tfidf will tfidf will downweight the words based on their frequency and\n",
    "# and so if a person is in multiple movies then the tfidf will penalize the importance of that person\n",
    "# and kind of treat it as stopwords are treatedv (as in formula, log term will penalize the word count)\n"
   ]
  },
  {
   "cell_type": "code",
   "execution_count": 74,
   "id": "d28901b0-7588-4631-9075-fb0b37d8812b",
   "metadata": {},
   "outputs": [],
   "source": [
    "# Import CountVectorizer and create the count matrix\n",
    "from sklearn.feature_extraction.text import CountVectorizer\n",
    "\n",
    "count = CountVectorizer(stop_words='english')\n",
    "count_matrix = count.fit_transform(df_movie['soup'])"
   ]
  },
  {
   "cell_type": "code",
   "execution_count": 75,
   "id": "7becb423-a864-4cce-9c51-ae2f085f0a67",
   "metadata": {},
   "outputs": [
    {
     "data": {
      "text/plain": [
       "<1x64212 sparse matrix of type '<class 'numpy.int64'>'\n",
       "\twith 7 stored elements in Compressed Sparse Row format>"
      ]
     },
     "execution_count": 75,
     "metadata": {},
     "output_type": "execute_result"
    }
   ],
   "source": [
    "# CountVectorizer was giving int values as it is just count of words and not the frequency (in tfidf)\n",
    "count_matrix[0][0]"
   ]
  },
  {
   "cell_type": "code",
   "execution_count": 76,
   "id": "66bc8f00-7571-491e-a81a-fabdf37d71b6",
   "metadata": {},
   "outputs": [
    {
     "data": {
      "text/plain": [
       "<1x75827 sparse matrix of type '<class 'numpy.float64'>'\n",
       "\twith 25 stored elements in Compressed Sparse Row format>"
      ]
     },
     "execution_count": 76,
     "metadata": {},
     "output_type": "execute_result"
    }
   ],
   "source": [
    "# tfidfvectorizer was giving float values as the tfidf gives values between 0 and 1\n",
    "matrix[0][0]"
   ]
  },
  {
   "cell_type": "code",
   "execution_count": 77,
   "id": "1ee6b793-c230-4b4e-a321-b6e4dc04ed0f",
   "metadata": {},
   "outputs": [],
   "source": [
    "from sklearn.metrics.pairwise import cosine_similarity"
   ]
  },
  {
   "cell_type": "code",
   "execution_count": 78,
   "id": "853b96a6-665a-4b5f-aaf0-bd3a54a06965",
   "metadata": {},
   "outputs": [],
   "source": [
    "cosine_sim2 = cosine_similarity(count_matrix, count_matrix)"
   ]
  },
  {
   "cell_type": "code",
   "execution_count": 79,
   "id": "41c9d493-c75a-433e-9620-07cebf0afac4",
   "metadata": {},
   "outputs": [
    {
     "data": {
      "text/plain": [
       "array([[1.        , 0.14285714, 0.14285714, ..., 0.        , 0.        ,\n",
       "        0.        ],\n",
       "       [0.14285714, 1.        , 0.        , ..., 0.        , 0.        ,\n",
       "        0.        ],\n",
       "       [0.14285714, 0.        , 1.        , ..., 0.        , 0.        ,\n",
       "        0.        ],\n",
       "       ...,\n",
       "       [0.        , 0.        , 0.        , ..., 1.        , 0.        ,\n",
       "        0.        ],\n",
       "       [0.        , 0.        , 0.        , ..., 0.        , 1.        ,\n",
       "        0.        ],\n",
       "       [0.        , 0.        , 0.        , ..., 0.        , 0.        ,\n",
       "        1.        ]])"
      ]
     },
     "execution_count": 79,
     "metadata": {},
     "output_type": "execute_result"
    }
   ],
   "source": [
    "cosine_sim2"
   ]
  },
  {
   "cell_type": "code",
   "execution_count": 80,
   "id": "13e2276c-6a79-48a4-abd7-3ecef44f1021",
   "metadata": {},
   "outputs": [],
   "source": [
    "#cosine_sim_test = linear_kernel(count_matrix, count_matrix)\n",
    "\n",
    "#cosine_sim_test.shape"
   ]
  },
  {
   "cell_type": "code",
   "execution_count": 81,
   "id": "e379d8cd-4a73-456b-9b19-e535060d16b5",
   "metadata": {},
   "outputs": [],
   "source": [
    "#del cosine_sim_test"
   ]
  },
  {
   "cell_type": "code",
   "execution_count": 82,
   "id": "09cce3c2-f95a-40cd-971f-75ba32199d2a",
   "metadata": {},
   "outputs": [],
   "source": [
    "# how to check how much ram this jupyter notebook is taking ------------------?????????????????????????????????"
   ]
  },
  {
   "cell_type": "code",
   "execution_count": 83,
   "id": "fdd103e9-bae4-4079-a494-58c017c32a78",
   "metadata": {},
   "outputs": [],
   "source": [
    "# What is the difference between sklearn.metrics.pairwise.cosine_similarity and sklearn.metrics.pairwise.linear_kernel\n",
    "    # linear_kernal does not normalise the values, though cosine_smilarity normalizes the values\n",
    "\n",
    "# How to noprmalize the linear_kernal output -------------------------------?????????????????????????????????????\n",
    "    \n",
    "# tfidfvectoriser vs count_vectorizer\n",
    "    # count_vectorizer does not normalise the values as it is just the number of counts of words, though tfidfvectoriser normalizes the values as it is a frequency so (between 0 and 1)\n",
    "\n",
    "# How to noprmalize the count_vectorizer output ---------------------------------????????????????????????????????????\n",
    "\n",
    "# cosine_similarity is giving values between 0 nad 1\n",
    "# linear_kernel is is giving values in integer form (greater than 1), so this is not normalized between 0 and 1\n"
   ]
  },
  {
   "cell_type": "code",
   "execution_count": 84,
   "id": "e1a16c27-5fa9-4195-b71b-efc23aa51ace",
   "metadata": {},
   "outputs": [],
   "source": [
    "indices = pd.Series(df_movie.index, index=df_movie['title'])"
   ]
  },
  {
   "cell_type": "code",
   "execution_count": 85,
   "id": "413556e2-91d4-4834-98af-84a557ca107a",
   "metadata": {},
   "outputs": [
    {
     "data": {
      "text/html": [
       "<div>\n",
       "<style scoped>\n",
       "    .dataframe tbody tr th:only-of-type {\n",
       "        vertical-align: middle;\n",
       "    }\n",
       "\n",
       "    .dataframe tbody tr th {\n",
       "        vertical-align: top;\n",
       "    }\n",
       "\n",
       "    .dataframe thead th {\n",
       "        text-align: right;\n",
       "    }\n",
       "</style>\n",
       "<table border=\"1\" class=\"dataframe\">\n",
       "  <thead>\n",
       "    <tr style=\"text-align: right;\">\n",
       "      <th></th>\n",
       "      <th>index</th>\n",
       "      <th>title</th>\n",
       "      <th>score</th>\n",
       "    </tr>\n",
       "  </thead>\n",
       "  <tbody>\n",
       "    <tr>\n",
       "      <th>0</th>\n",
       "      <td>10132</td>\n",
       "      <td>Batman Begins</td>\n",
       "      <td>0.857143</td>\n",
       "    </tr>\n",
       "    <tr>\n",
       "      <th>1</th>\n",
       "      <td>12495</td>\n",
       "      <td>The Dark Knight</td>\n",
       "      <td>0.857143</td>\n",
       "    </tr>\n",
       "    <tr>\n",
       "      <th>2</th>\n",
       "      <td>516</td>\n",
       "      <td>Romeo Is Bleeding</td>\n",
       "      <td>0.571429</td>\n",
       "    </tr>\n",
       "    <tr>\n",
       "      <th>3</th>\n",
       "      <td>9238</td>\n",
       "      <td>Shiner</td>\n",
       "      <td>0.571429</td>\n",
       "    </tr>\n",
       "    <tr>\n",
       "      <th>4</th>\n",
       "      <td>11367</td>\n",
       "      <td>The Prestige</td>\n",
       "      <td>0.571429</td>\n",
       "    </tr>\n",
       "    <tr>\n",
       "      <th>5</th>\n",
       "      <td>23914</td>\n",
       "      <td>Quicksand</td>\n",
       "      <td>0.571429</td>\n",
       "    </tr>\n",
       "    <tr>\n",
       "      <th>6</th>\n",
       "      <td>24855</td>\n",
       "      <td>Deadfall</td>\n",
       "      <td>0.571429</td>\n",
       "    </tr>\n",
       "    <tr>\n",
       "      <th>7</th>\n",
       "      <td>9796</td>\n",
       "      <td>Amongst Friends</td>\n",
       "      <td>0.507093</td>\n",
       "    </tr>\n",
       "    <tr>\n",
       "      <th>8</th>\n",
       "      <td>276</td>\n",
       "      <td>Murder in the First</td>\n",
       "      <td>0.462910</td>\n",
       "    </tr>\n",
       "    <tr>\n",
       "      <th>9</th>\n",
       "      <td>5785</td>\n",
       "      <td>Escape to Victory</td>\n",
       "      <td>0.462910</td>\n",
       "    </tr>\n",
       "    <tr>\n",
       "      <th>10</th>\n",
       "      <td>39930</td>\n",
       "      <td>Sara</td>\n",
       "      <td>0.462910</td>\n",
       "    </tr>\n",
       "    <tr>\n",
       "      <th>11</th>\n",
       "      <td>42717</td>\n",
       "      <td>Lure: Teen Fight Club</td>\n",
       "      <td>0.462910</td>\n",
       "    </tr>\n",
       "    <tr>\n",
       "      <th>12</th>\n",
       "      <td>18766</td>\n",
       "      <td>Last Exit</td>\n",
       "      <td>0.436436</td>\n",
       "    </tr>\n",
       "    <tr>\n",
       "      <th>13</th>\n",
       "      <td>34309</td>\n",
       "      <td>Rege</td>\n",
       "      <td>0.436436</td>\n",
       "    </tr>\n",
       "    <tr>\n",
       "      <th>14</th>\n",
       "      <td>35523</td>\n",
       "      <td>Manuscripts Don't Burn</td>\n",
       "      <td>0.436436</td>\n",
       "    </tr>\n",
       "    <tr>\n",
       "      <th>15</th>\n",
       "      <td>36602</td>\n",
       "      <td>Lakeer - Forbidden Lines</td>\n",
       "      <td>0.436436</td>\n",
       "    </tr>\n",
       "    <tr>\n",
       "      <th>16</th>\n",
       "      <td>37496</td>\n",
       "      <td>And Then There Were None</td>\n",
       "      <td>0.436436</td>\n",
       "    </tr>\n",
       "    <tr>\n",
       "      <th>17</th>\n",
       "      <td>5</td>\n",
       "      <td>Heat</td>\n",
       "      <td>0.428571</td>\n",
       "    </tr>\n",
       "    <tr>\n",
       "      <th>18</th>\n",
       "      <td>41</td>\n",
       "      <td>Dead Presidents</td>\n",
       "      <td>0.428571</td>\n",
       "    </tr>\n",
       "  </tbody>\n",
       "</table>\n",
       "</div>"
      ],
      "text/plain": [
       "    index                     title     score\n",
       "0   10132             Batman Begins  0.857143\n",
       "1   12495           The Dark Knight  0.857143\n",
       "2     516         Romeo Is Bleeding  0.571429\n",
       "3    9238                    Shiner  0.571429\n",
       "4   11367              The Prestige  0.571429\n",
       "5   23914                 Quicksand  0.571429\n",
       "6   24855                  Deadfall  0.571429\n",
       "7    9796           Amongst Friends  0.507093\n",
       "8     276       Murder in the First  0.462910\n",
       "9    5785         Escape to Victory  0.462910\n",
       "10  39930                      Sara  0.462910\n",
       "11  42717     Lure: Teen Fight Club  0.462910\n",
       "12  18766                 Last Exit  0.436436\n",
       "13  34309                      Rege  0.436436\n",
       "14  35523    Manuscripts Don't Burn  0.436436\n",
       "15  36602  Lakeer - Forbidden Lines  0.436436\n",
       "16  37496  And Then There Were None  0.436436\n",
       "17      5                      Heat  0.428571\n",
       "18     41           Dead Presidents  0.428571"
      ]
     },
     "execution_count": 85,
     "metadata": {},
     "output_type": "execute_result"
    }
   ],
   "source": [
    "recommendations('The Dark Knight Rises', 20, cosine_sim2)"
   ]
  },
  {
   "cell_type": "markdown",
   "id": "55ee36d9-a8ef-44e3-a325-92b46f924250",
   "metadata": {
    "tags": []
   },
   "source": [
    "## Colaborative Filtering"
   ]
  },
  {
   "cell_type": "code",
   "execution_count": 86,
   "id": "3a44dcd8-057c-4114-9aae-d914e5c79757",
   "metadata": {},
   "outputs": [],
   "source": [
    "# For more user personalised and biased recommendations"
   ]
  },
  {
   "cell_type": "code",
   "execution_count": 87,
   "id": "b24ac89c-9602-460c-95c8-34562850e41a",
   "metadata": {},
   "outputs": [
    {
     "data": {
      "text/plain": [
       "Index(['cast', 'crew', 'id', 'adult', 'belongs_to_collection', 'budget',\n",
       "       'genres', 'homepage', 'imdb_id', 'original_language', 'original_title',\n",
       "       'overview', 'popularity', 'poster_path', 'production_companies',\n",
       "       'production_countries', 'release_date', 'revenue', 'runtime',\n",
       "       'spoken_languages', 'status', 'tagline', 'title', 'video',\n",
       "       'vote_average', 'vote_count', 'director', 'cast_Top3', 'genres_Top3',\n",
       "       'soup'],\n",
       "      dtype='object')"
      ]
     },
     "execution_count": 87,
     "metadata": {},
     "output_type": "execute_result"
    }
   ],
   "source": [
    "df_movie.columns"
   ]
  },
  {
   "cell_type": "code",
   "execution_count": 88,
   "id": "02434520-cac1-4073-9390-c013f3034e7c",
   "metadata": {},
   "outputs": [],
   "source": [
    "# We need to have the utility matrix (M*N) M users and N movies\n",
    "\n",
    "# use pivot table to create matrix from the dataset"
   ]
  },
  {
   "cell_type": "code",
   "execution_count": 89,
   "id": "2e4fc586-1d23-4c56-a735-f9f31a6f2577",
   "metadata": {},
   "outputs": [],
   "source": [
    "from surprise import Reader, Dataset, SVD\n",
    "from surprise.model_selection import cross_validate"
   ]
  },
  {
   "cell_type": "code",
   "execution_count": 90,
   "id": "b54c1cb5-4df7-4d59-b36a-02dd45c4eccd",
   "metadata": {},
   "outputs": [
    {
     "data": {
      "text/html": [
       "<div>\n",
       "<style scoped>\n",
       "    .dataframe tbody tr th:only-of-type {\n",
       "        vertical-align: middle;\n",
       "    }\n",
       "\n",
       "    .dataframe tbody tr th {\n",
       "        vertical-align: top;\n",
       "    }\n",
       "\n",
       "    .dataframe thead th {\n",
       "        text-align: right;\n",
       "    }\n",
       "</style>\n",
       "<table border=\"1\" class=\"dataframe\">\n",
       "  <thead>\n",
       "    <tr style=\"text-align: right;\">\n",
       "      <th></th>\n",
       "      <th>userId</th>\n",
       "      <th>movieId</th>\n",
       "      <th>rating</th>\n",
       "      <th>timestamp</th>\n",
       "    </tr>\n",
       "  </thead>\n",
       "  <tbody>\n",
       "    <tr>\n",
       "      <th>0</th>\n",
       "      <td>1</td>\n",
       "      <td>31</td>\n",
       "      <td>2.5</td>\n",
       "      <td>1260759144</td>\n",
       "    </tr>\n",
       "    <tr>\n",
       "      <th>1</th>\n",
       "      <td>1</td>\n",
       "      <td>1029</td>\n",
       "      <td>3.0</td>\n",
       "      <td>1260759179</td>\n",
       "    </tr>\n",
       "    <tr>\n",
       "      <th>2</th>\n",
       "      <td>1</td>\n",
       "      <td>1061</td>\n",
       "      <td>3.0</td>\n",
       "      <td>1260759182</td>\n",
       "    </tr>\n",
       "    <tr>\n",
       "      <th>3</th>\n",
       "      <td>1</td>\n",
       "      <td>1129</td>\n",
       "      <td>2.0</td>\n",
       "      <td>1260759185</td>\n",
       "    </tr>\n",
       "    <tr>\n",
       "      <th>4</th>\n",
       "      <td>1</td>\n",
       "      <td>1172</td>\n",
       "      <td>4.0</td>\n",
       "      <td>1260759205</td>\n",
       "    </tr>\n",
       "  </tbody>\n",
       "</table>\n",
       "</div>"
      ],
      "text/plain": [
       "   userId  movieId  rating   timestamp\n",
       "0       1       31     2.5  1260759144\n",
       "1       1     1029     3.0  1260759179\n",
       "2       1     1061     3.0  1260759182\n",
       "3       1     1129     2.0  1260759185\n",
       "4       1     1172     4.0  1260759205"
      ]
     },
     "execution_count": 90,
     "metadata": {},
     "output_type": "execute_result"
    }
   ],
   "source": [
    "ratings = pd.read_csv(r\"D:\\@ML\\Datasets\\TMDB_dataset\\ratings_small.csv\")\n",
    "ratings.head()"
   ]
  },
  {
   "cell_type": "code",
   "execution_count": 91,
   "id": "1fbd806b-b427-43ac-a376-bfd72b20fbc9",
   "metadata": {},
   "outputs": [],
   "source": [
    "# reader class of surprise library to read the file or dataframe\n",
    "reader = Reader()"
   ]
  },
  {
   "cell_type": "code",
   "execution_count": 92,
   "id": "d7d8a0bc-2e2a-43a5-aa6b-640bb196e23a",
   "metadata": {},
   "outputs": [],
   "source": [
    "# https://surprise.readthedocs.io/en/stable/dataset.html\n",
    "# Dataset class returns a Dataset object\n",
    "# only takes argument in order of user id, item id and ratings\n",
    "\n",
    "data = Dataset.load_from_df(ratings[['userId', 'movieId', 'rating']], reader)"
   ]
  },
  {
   "cell_type": "code",
   "execution_count": 93,
   "id": "5ff9e826-7813-430b-9e9e-c6370da1ce71",
   "metadata": {},
   "outputs": [
    {
     "data": {
      "text/plain": [
       "<surprise.dataset.DatasetAutoFolds at 0x2baaaa3f350>"
      ]
     },
     "execution_count": 93,
     "metadata": {},
     "output_type": "execute_result"
    }
   ],
   "source": [
    "data"
   ]
  },
  {
   "cell_type": "code",
   "execution_count": 94,
   "id": "8f901766-d777-4350-a25b-162f0a7fd825",
   "metadata": {},
   "outputs": [],
   "source": [
    "algo = SVD()"
   ]
  },
  {
   "cell_type": "code",
   "execution_count": 95,
   "id": "be316c1c-4bf7-478d-9e68-46290aa86630",
   "metadata": {},
   "outputs": [
    {
     "name": "stdout",
     "output_type": "stream",
     "text": [
      "Evaluating RMSE, MAE of algorithm SVD on 5 split(s).\n",
      "\n",
      "                  Fold 1  Fold 2  Fold 3  Fold 4  Fold 5  Mean    Std     \n",
      "RMSE (testset)    0.8949  0.9018  0.8958  0.8952  0.8919  0.8959  0.0032  \n",
      "MAE (testset)     0.6879  0.6922  0.6900  0.6905  0.6880  0.6897  0.0016  \n",
      "Fit time          1.45    1.39    1.17    1.37    1.83    1.44    0.22    \n",
      "Test time         3.56    0.16    0.14    0.19    0.39    0.89    1.34    \n"
     ]
    },
    {
     "data": {
      "text/plain": [
       "{'test_rmse': array([0.89492004, 0.90177142, 0.89578127, 0.89524686, 0.89190111]),\n",
       " 'test_mae': array([0.68792677, 0.69221346, 0.69000834, 0.69045358, 0.68803199]),\n",
       " 'fit_time': (1.4502780437469482,\n",
       "  1.38800048828125,\n",
       "  1.1729998588562012,\n",
       "  1.372988224029541,\n",
       "  1.8339991569519043),\n",
       " 'test_time': (3.561997175216675,\n",
       "  0.15799951553344727,\n",
       "  0.13601183891296387,\n",
       "  0.18800997734069824,\n",
       "  0.39200329780578613)}"
      ]
     },
     "execution_count": 95,
     "metadata": {},
     "output_type": "execute_result"
    }
   ],
   "source": [
    "# to use 5 fold cross validation on data on 'RMSE'  and 'MAE'\n",
    "\n",
    "cross_validate(algo, data, measures = ['RMSE','MAE'], cv = 5, verbose = True)"
   ]
  },
  {
   "cell_type": "code",
   "execution_count": 96,
   "id": "4603ebcf-a11c-4bda-9f33-22e329002df3",
   "metadata": {},
   "outputs": [
    {
     "data": {
      "text/plain": [
       "Prediction(uid=1, iid=302, r_ui=3, est=2.6292917213400733, details={'was_impossible': False})"
      ]
     },
     "execution_count": 96,
     "metadata": {},
     "output_type": "execute_result"
    }
   ],
   "source": [
    "algo.predict(1, 302, 3)"
   ]
  },
  {
   "cell_type": "code",
   "execution_count": 97,
   "id": "7a7dc906-2e60-4ac3-9f15-b1b2ed7138f8",
   "metadata": {},
   "outputs": [],
   "source": [
    "trainset = data.build_full_trainset()"
   ]
  },
  {
   "cell_type": "code",
   "execution_count": 98,
   "id": "c25dc646-a661-4db4-b0df-39b91f08ca64",
   "metadata": {},
   "outputs": [
    {
     "data": {
      "text/plain": [
       "<surprise.prediction_algorithms.matrix_factorization.SVD at 0x2baaaa46a50>"
      ]
     },
     "execution_count": 98,
     "metadata": {},
     "output_type": "execute_result"
    }
   ],
   "source": [
    "algo.fit(trainset)"
   ]
  },
  {
   "cell_type": "code",
   "execution_count": 99,
   "id": "c0233093-c3c8-41ad-996e-8496b11bec9c",
   "metadata": {},
   "outputs": [
    {
     "data": {
      "text/html": [
       "<div>\n",
       "<style scoped>\n",
       "    .dataframe tbody tr th:only-of-type {\n",
       "        vertical-align: middle;\n",
       "    }\n",
       "\n",
       "    .dataframe tbody tr th {\n",
       "        vertical-align: top;\n",
       "    }\n",
       "\n",
       "    .dataframe thead th {\n",
       "        text-align: right;\n",
       "    }\n",
       "</style>\n",
       "<table border=\"1\" class=\"dataframe\">\n",
       "  <thead>\n",
       "    <tr style=\"text-align: right;\">\n",
       "      <th></th>\n",
       "      <th>userId</th>\n",
       "      <th>movieId</th>\n",
       "      <th>rating</th>\n",
       "      <th>timestamp</th>\n",
       "    </tr>\n",
       "  </thead>\n",
       "  <tbody>\n",
       "    <tr>\n",
       "      <th>0</th>\n",
       "      <td>1</td>\n",
       "      <td>31</td>\n",
       "      <td>2.5</td>\n",
       "      <td>1260759144</td>\n",
       "    </tr>\n",
       "    <tr>\n",
       "      <th>1</th>\n",
       "      <td>1</td>\n",
       "      <td>1029</td>\n",
       "      <td>3.0</td>\n",
       "      <td>1260759179</td>\n",
       "    </tr>\n",
       "    <tr>\n",
       "      <th>2</th>\n",
       "      <td>1</td>\n",
       "      <td>1061</td>\n",
       "      <td>3.0</td>\n",
       "      <td>1260759182</td>\n",
       "    </tr>\n",
       "    <tr>\n",
       "      <th>3</th>\n",
       "      <td>1</td>\n",
       "      <td>1129</td>\n",
       "      <td>2.0</td>\n",
       "      <td>1260759185</td>\n",
       "    </tr>\n",
       "    <tr>\n",
       "      <th>4</th>\n",
       "      <td>1</td>\n",
       "      <td>1172</td>\n",
       "      <td>4.0</td>\n",
       "      <td>1260759205</td>\n",
       "    </tr>\n",
       "    <tr>\n",
       "      <th>5</th>\n",
       "      <td>1</td>\n",
       "      <td>1263</td>\n",
       "      <td>2.0</td>\n",
       "      <td>1260759151</td>\n",
       "    </tr>\n",
       "    <tr>\n",
       "      <th>6</th>\n",
       "      <td>1</td>\n",
       "      <td>1287</td>\n",
       "      <td>2.0</td>\n",
       "      <td>1260759187</td>\n",
       "    </tr>\n",
       "    <tr>\n",
       "      <th>7</th>\n",
       "      <td>1</td>\n",
       "      <td>1293</td>\n",
       "      <td>2.0</td>\n",
       "      <td>1260759148</td>\n",
       "    </tr>\n",
       "    <tr>\n",
       "      <th>8</th>\n",
       "      <td>1</td>\n",
       "      <td>1339</td>\n",
       "      <td>3.5</td>\n",
       "      <td>1260759125</td>\n",
       "    </tr>\n",
       "    <tr>\n",
       "      <th>9</th>\n",
       "      <td>1</td>\n",
       "      <td>1343</td>\n",
       "      <td>2.0</td>\n",
       "      <td>1260759131</td>\n",
       "    </tr>\n",
       "    <tr>\n",
       "      <th>10</th>\n",
       "      <td>1</td>\n",
       "      <td>1371</td>\n",
       "      <td>2.5</td>\n",
       "      <td>1260759135</td>\n",
       "    </tr>\n",
       "    <tr>\n",
       "      <th>11</th>\n",
       "      <td>1</td>\n",
       "      <td>1405</td>\n",
       "      <td>1.0</td>\n",
       "      <td>1260759203</td>\n",
       "    </tr>\n",
       "    <tr>\n",
       "      <th>12</th>\n",
       "      <td>1</td>\n",
       "      <td>1953</td>\n",
       "      <td>4.0</td>\n",
       "      <td>1260759191</td>\n",
       "    </tr>\n",
       "    <tr>\n",
       "      <th>13</th>\n",
       "      <td>1</td>\n",
       "      <td>2105</td>\n",
       "      <td>4.0</td>\n",
       "      <td>1260759139</td>\n",
       "    </tr>\n",
       "    <tr>\n",
       "      <th>14</th>\n",
       "      <td>1</td>\n",
       "      <td>2150</td>\n",
       "      <td>3.0</td>\n",
       "      <td>1260759194</td>\n",
       "    </tr>\n",
       "    <tr>\n",
       "      <th>15</th>\n",
       "      <td>1</td>\n",
       "      <td>2193</td>\n",
       "      <td>2.0</td>\n",
       "      <td>1260759198</td>\n",
       "    </tr>\n",
       "    <tr>\n",
       "      <th>16</th>\n",
       "      <td>1</td>\n",
       "      <td>2294</td>\n",
       "      <td>2.0</td>\n",
       "      <td>1260759108</td>\n",
       "    </tr>\n",
       "    <tr>\n",
       "      <th>17</th>\n",
       "      <td>1</td>\n",
       "      <td>2455</td>\n",
       "      <td>2.5</td>\n",
       "      <td>1260759113</td>\n",
       "    </tr>\n",
       "    <tr>\n",
       "      <th>18</th>\n",
       "      <td>1</td>\n",
       "      <td>2968</td>\n",
       "      <td>1.0</td>\n",
       "      <td>1260759200</td>\n",
       "    </tr>\n",
       "    <tr>\n",
       "      <th>19</th>\n",
       "      <td>1</td>\n",
       "      <td>3671</td>\n",
       "      <td>3.0</td>\n",
       "      <td>1260759117</td>\n",
       "    </tr>\n",
       "  </tbody>\n",
       "</table>\n",
       "</div>"
      ],
      "text/plain": [
       "    userId  movieId  rating   timestamp\n",
       "0        1       31     2.5  1260759144\n",
       "1        1     1029     3.0  1260759179\n",
       "2        1     1061     3.0  1260759182\n",
       "3        1     1129     2.0  1260759185\n",
       "4        1     1172     4.0  1260759205\n",
       "5        1     1263     2.0  1260759151\n",
       "6        1     1287     2.0  1260759187\n",
       "7        1     1293     2.0  1260759148\n",
       "8        1     1339     3.5  1260759125\n",
       "9        1     1343     2.0  1260759131\n",
       "10       1     1371     2.5  1260759135\n",
       "11       1     1405     1.0  1260759203\n",
       "12       1     1953     4.0  1260759191\n",
       "13       1     2105     4.0  1260759139\n",
       "14       1     2150     3.0  1260759194\n",
       "15       1     2193     2.0  1260759198\n",
       "16       1     2294     2.0  1260759108\n",
       "17       1     2455     2.5  1260759113\n",
       "18       1     2968     1.0  1260759200\n",
       "19       1     3671     3.0  1260759117"
      ]
     },
     "execution_count": 99,
     "metadata": {},
     "output_type": "execute_result"
    }
   ],
   "source": [
    "ratings[ratings['userId'] == 1]"
   ]
  },
  {
   "cell_type": "code",
   "execution_count": 100,
   "id": "b6e2e266-31a3-4544-8aa0-70fa4136fc1a",
   "metadata": {},
   "outputs": [
    {
     "data": {
      "text/plain": [
       "Prediction(uid=1, iid=302, r_ui=None, est=2.6764160534325336, details={'was_impossible': False})"
      ]
     },
     "execution_count": 100,
     "metadata": {},
     "output_type": "execute_result"
    }
   ],
   "source": [
    "# since user 1 have not given any ratings to movies apart from in above list\n",
    "# lets predict the ratings for movie id 302 since user has not rated this one\n",
    "\n",
    "\n",
    "algo.predict(1, 302)"
   ]
  },
  {
   "cell_type": "code",
   "execution_count": null,
   "id": "fb1a672d-d7c4-4659-a6fb-c90e6b76b856",
   "metadata": {},
   "outputs": [],
   "source": []
  },
  {
   "cell_type": "code",
   "execution_count": null,
   "id": "c6094aab-f25e-42e3-91de-a5f1f195e476",
   "metadata": {},
   "outputs": [],
   "source": []
  },
  {
   "cell_type": "code",
   "execution_count": null,
   "id": "22f19072-dcfd-4a06-b8ff-540f2664b52a",
   "metadata": {},
   "outputs": [],
   "source": []
  },
  {
   "cell_type": "code",
   "execution_count": null,
   "id": "ff75caac-04ab-4ec9-af87-855e4cb317a3",
   "metadata": {},
   "outputs": [],
   "source": []
  },
  {
   "cell_type": "code",
   "execution_count": null,
   "id": "14c7e46f-df3c-4e63-b95c-c599c53e183f",
   "metadata": {},
   "outputs": [],
   "source": []
  },
  {
   "cell_type": "code",
   "execution_count": null,
   "id": "ac7dacda-1a44-4f4f-83ed-e51b9d898a3b",
   "metadata": {},
   "outputs": [],
   "source": []
  },
  {
   "cell_type": "code",
   "execution_count": null,
   "id": "e9cab7e6-1d20-449e-982b-a6886f36f617",
   "metadata": {},
   "outputs": [],
   "source": []
  },
  {
   "cell_type": "code",
   "execution_count": null,
   "id": "5de5c31c-7a93-4dc0-af9c-ede7cac7d769",
   "metadata": {},
   "outputs": [],
   "source": []
  },
  {
   "cell_type": "code",
   "execution_count": null,
   "id": "65237f7c-e743-4ecc-a22c-46389056cad0",
   "metadata": {},
   "outputs": [],
   "source": []
  },
  {
   "cell_type": "code",
   "execution_count": null,
   "id": "33b01248-f80f-4d2a-8b62-adc2acc91d98",
   "metadata": {},
   "outputs": [],
   "source": []
  },
  {
   "cell_type": "code",
   "execution_count": null,
   "id": "6e318b38-6f95-4d32-84b8-42dd9ed3a7e1",
   "metadata": {},
   "outputs": [],
   "source": []
  },
  {
   "cell_type": "code",
   "execution_count": null,
   "id": "7f5e72c0-e61d-4dbd-a303-078d4cb19207",
   "metadata": {},
   "outputs": [],
   "source": []
  }
 ],
 "metadata": {
  "kernelspec": {
   "display_name": "Python 3 (ipykernel)",
   "language": "python",
   "name": "python3"
  },
  "language_info": {
   "codemirror_mode": {
    "name": "ipython",
    "version": 3
   },
   "file_extension": ".py",
   "mimetype": "text/x-python",
   "name": "python",
   "nbconvert_exporter": "python",
   "pygments_lexer": "ipython3",
   "version": "3.11.3"
  }
 },
 "nbformat": 4,
 "nbformat_minor": 5
}
